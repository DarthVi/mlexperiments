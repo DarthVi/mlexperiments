{
 "cells": [
  {
   "cell_type": "code",
   "execution_count": 1,
   "metadata": {
    "colab": {
     "base_uri": "https://localhost:8080/",
     "height": 52
    },
    "colab_type": "code",
    "id": "_MlnnNQuCY1A",
    "outputId": "891fe6bb-3b0e-43a9-c55c-4bc55b0ec64a"
   },
   "outputs": [
    {
     "name": "stderr",
     "output_type": "stream",
     "text": [
      "Using TensorFlow backend.\n"
     ]
    }
   ],
   "source": [
    "# DataFrame\n",
    "import pandas as pd\n",
    "\n",
    "# Matplot\n",
    "import matplotlib.pyplot as plt\n",
    "%matplotlib inline\n",
    "\n",
    "# Scikit-learn\n",
    "from sklearn.model_selection import train_test_split\n",
    "from sklearn.preprocessing import LabelEncoder\n",
    "from sklearn.metrics import confusion_matrix, classification_report, accuracy_score\n",
    "from sklearn.manifold import TSNE\n",
    "from sklearn.feature_extraction.text import TfidfVectorizer\n",
    "\n",
    "# Keras\n",
    "from keras.preprocessing.text import Tokenizer\n",
    "from keras.preprocessing.sequence import pad_sequences\n",
    "from keras.models import Sequential, Model\n",
    "from keras.layers import Input, Activation, Dense, Dropout, Embedding, Flatten, Conv1D, MaxPooling1D, LSTM, concatenate\n",
    "from keras.layers import GaussianDropout, GaussianNoise\n",
    "from keras.layers import GRU, Bidirectional, TimeDistributed\n",
    "from keras import utils\n",
    "from keras.callbacks import ReduceLROnPlateau, EarlyStopping\n",
    "\n",
    "# nltk\n",
    "import nltk\n",
    "from nltk.corpus import stopwords\n",
    "from  nltk.stem import SnowballStemmer\n",
    "\n",
    "# Word2vec\n",
    "import gensim\n",
    "\n",
    "# Utility\n",
    "import os\n",
    "import re\n",
    "import numpy as np\n",
    "from collections import Counter\n",
    "import logging\n",
    "import time\n",
    "import pickle\n",
    "import itertools\n",
    "\n",
    "# Set log\n",
    "logging.basicConfig(format='%(asctime)s : %(levelname)s : %(message)s', level=logging.INFO)"
   ]
  },
  {
   "cell_type": "code",
   "execution_count": 2,
   "metadata": {
    "colab": {},
    "colab_type": "code",
    "id": "zRYb9ExIgGZM"
   },
   "outputs": [],
   "source": [
    "# DATASET\n",
    "DATASET_COLUMNS = [\"target\", \"text\"]\n",
    "DATASET_ENCODING = \"ISO-8859-1\"\n",
    "TRAIN_SIZE = 0.8\n",
    "\n",
    "# TEXT CLENAING\n",
    "TEXT_CLEANING_RE = \"@\\S+|https?:\\S+|http?:\\S\"\n",
    "\n",
    "# WORD2VEC\n",
    "W2V_WINDOW = 7\n",
    "W2V_EPOCH = 32\n",
    "W2V_MIN_COUNT = 6\n",
    "W2V_SIZE = 200\n",
    "\n",
    "SEQUENCE_LENGTH = 200\n",
    "\n",
    "MAXLEN = 100\n",
    "MAX_SENTENCES = 15\n",
    "MAX_WORDS = 20000\n",
    "EMBEDDING_DIM = 200\n",
    "VALIDATION_SPLIT = 0.2\n",
    "\n",
    "# EXPORT\n",
    "KERAS_MODEL = \"model.h5\"\n",
    "WORD2VEC_MODEL = \"model.w2v\"\n",
    "TOKENIZER_MODEL = \"tokenizer.pkl\"\n",
    "ENCODER_MODEL = \"encoder.pkl\""
   ]
  },
  {
   "cell_type": "code",
   "execution_count": 30,
   "metadata": {
    "colab": {},
    "colab_type": "code",
    "id": "39zNMdcrhSXQ"
   },
   "outputs": [],
   "source": [
    "from keras import backend as K\n",
    "from keras.engine.topology import Layer, InputSpec\n",
    "from keras import initializers\n",
    "\n",
    "# class defining the Bahdanau attention layer\n",
    "class BahdanauAttentionNetwork(Layer):\n",
    "    def __init__(self, attention_dim):\n",
    "        self.init = initializers.get('normal')\n",
    "        self.supports_masking = True\n",
    "        self.attention_dim = attention_dim\n",
    "        super(BahdanauAttentionNetwork, self).__init__()\n",
    "\n",
    "    def build(self, input_shape):\n",
    "        assert len(input_shape) == 3\n",
    "        self.W = K.variable(self.init((input_shape[-1], self.attention_dim)))\n",
    "        self.b = K.variable(self.init((self.attention_dim,)))\n",
    "        self.trainable_weights = [self.W, self.b]\n",
    "        super(BahdanauAttentionNetwork, self).build(input_shape)\n",
    "\n",
    "    def compute_mask(self, inputs, mask=None):\n",
    "        return None\n",
    "\n",
    "    def call(self, x, mask=None):\n",
    "        # size of x :[batch_size, sel_len, attention_dim]\n",
    "        eij = K.tanh(K.bias_add(K.dot(x, self.W), self.b))\n",
    "\n",
    "        a = K.exp(eij)\n",
    "\n",
    "        if mask is not None:\n",
    "            # Cast the mask to floatX to avoid float64 upcasting\n",
    "            a *= K.cast(mask, K.floatx())\n",
    "                     \n",
    "        a /= K.cast(K.sum(a, axis=1, keepdims=True) + K.epsilon(), K.floatx())\n",
    "        #print(a.shape)\n",
    "        #print(x.shape)\n",
    "        #print(K.expand_dims(a).shape)\n",
    "        weighted_input = x * a\n",
    "        output = K.sum(weighted_input, axis=1)\n",
    "\n",
    "        return output\n",
    "\n",
    "    def compute_output_shape(self, input_shape):\n",
    "        return input_shape[0], input_shape[-1]"
   ]
  },
  {
   "cell_type": "code",
   "execution_count": 4,
   "metadata": {
    "colab": {},
    "colab_type": "code",
    "id": "xWtQiS78haMB"
   },
   "outputs": [],
   "source": [
    "df_train = pd.read_csv(\"yelp2015/train.csv\", encoding=DATASET_ENCODING , names=DATASET_COLUMNS)\n",
    "df_test = pd.read_csv(\"yelp2015/test.csv\", encoding=DATASET_ENCODING , names=DATASET_COLUMNS)"
   ]
  },
  {
   "cell_type": "code",
   "execution_count": 5,
   "metadata": {
    "colab": {},
    "colab_type": "code",
    "id": "3U1IuY9ZhmI5"
   },
   "outputs": [],
   "source": [
    "def preprocess(text):\n",
    "    # Remove link,user and special characters\n",
    "    text = re.sub(TEXT_CLEANING_RE, ' ', str(text).lower()).strip()\n",
    "    tokens = []\n",
    "    for token in text.split():\n",
    "      tokens.append(token)\n",
    "    return \" \".join(tokens)"
   ]
  },
  {
   "cell_type": "code",
   "execution_count": 6,
   "metadata": {
    "colab": {
     "base_uri": "https://localhost:8080/",
     "height": 52
    },
    "colab_type": "code",
    "id": "iotRlbmoiWJ0",
    "outputId": "98a1f06b-8bc2-4b75-e3df-8611824cb0e7"
   },
   "outputs": [
    {
     "name": "stdout",
     "output_type": "stream",
     "text": [
      "Wall time: 20.8 s\n"
     ]
    }
   ],
   "source": [
    "%%time\n",
    "df_train.text = df_train.text.apply(lambda x: preprocess(x))\n",
    "df_test.text = df_test.text.apply(lambda x: preprocess(x))"
   ]
  },
  {
   "cell_type": "code",
   "execution_count": 7,
   "metadata": {
    "colab": {},
    "colab_type": "code",
    "id": "bmPV31o3iaD1"
   },
   "outputs": [],
   "source": [
    "decode_map = {1: 0, 2: 1, 3: 2, 4: 3, 5: 4}\n",
    "def decode_sentiment(label):\n",
    "    return decode_map[int(label)]"
   ]
  },
  {
   "cell_type": "code",
   "execution_count": 8,
   "metadata": {
    "colab": {
     "base_uri": "https://localhost:8080/",
     "height": 52
    },
    "colab_type": "code",
    "id": "bCsD71TZityS",
    "outputId": "16d75668-dca7-4e31-c8f6-44582dab72b9"
   },
   "outputs": [
    {
     "name": "stdout",
     "output_type": "stream",
     "text": [
      "Wall time: 412 ms\n"
     ]
    }
   ],
   "source": [
    "%%time\n",
    "df_train.target = df_train.target.apply(lambda x: decode_sentiment(x))\n",
    "df_test.target = df_test.target.apply(lambda x: decode_sentiment(x))"
   ]
  },
  {
   "cell_type": "code",
   "execution_count": 9,
   "metadata": {
    "colab": {
     "base_uri": "https://localhost:8080/",
     "height": 69
    },
    "colab_type": "code",
    "id": "IXYv-HqmixB-",
    "outputId": "74a06ddf-a994-480a-8adb-3ee72e32aa6f"
   },
   "outputs": [
    {
     "name": "stderr",
     "output_type": "stream",
     "text": [
      "[nltk_data] Downloading package punkt to\n",
      "[nltk_data]     C:\\Users\\covin\\AppData\\Roaming\\nltk_data...\n",
      "[nltk_data]   Package punkt is already up-to-date!\n"
     ]
    },
    {
     "data": {
      "text/plain": [
       "True"
      ]
     },
     "execution_count": 9,
     "metadata": {},
     "output_type": "execute_result"
    }
   ],
   "source": [
    "nltk.download('punkt')"
   ]
  },
  {
   "cell_type": "code",
   "execution_count": 10,
   "metadata": {
    "colab": {},
    "colab_type": "code",
    "id": "E7RWHPuLcJ8d"
   },
   "outputs": [
    {
     "name": "stderr",
     "output_type": "stream",
     "text": [
      "2020-05-06 10:43:22,269 : INFO : loading Word2Vec object from w2v2_modregex_200.w2v\n",
      "2020-05-06 10:43:22,882 : INFO : loading wv recursively from w2v2_modregex_200.w2v.wv.* with mmap=None\n",
      "2020-05-06 10:43:22,882 : INFO : loading vectors from w2v2_modregex_200.w2v.wv.vectors.npy with mmap=None\n",
      "2020-05-06 10:43:22,952 : INFO : setting ignored attribute vectors_norm to None\n",
      "2020-05-06 10:43:22,953 : INFO : loading vocabulary recursively from w2v2_modregex_200.w2v.vocabulary.* with mmap=None\n",
      "2020-05-06 10:43:22,954 : INFO : loading trainables recursively from w2v2_modregex_200.w2v.trainables.* with mmap=None\n",
      "2020-05-06 10:43:22,954 : INFO : loading syn1neg from w2v2_modregex_200.w2v.trainables.syn1neg.npy with mmap=None\n",
      "2020-05-06 10:43:23,028 : INFO : setting ignored attribute cum_table to None\n",
      "2020-05-06 10:43:23,029 : INFO : loaded w2v2_modregex_200.w2v\n"
     ]
    }
   ],
   "source": [
    "from gensim.models import Word2Vec\n",
    "\n",
    "w2v_model = Word2Vec.load(\"w2v2_modregex_200.w2v\")"
   ]
  },
  {
   "cell_type": "code",
   "execution_count": 11,
   "metadata": {
    "colab": {
     "base_uri": "https://localhost:8080/",
     "height": 34
    },
    "colab_type": "code",
    "id": "s_KSNQbVcU5P",
    "outputId": "bef93af5-3cd4-440e-a617-59a7597d4fb4"
   },
   "outputs": [
    {
     "name": "stdout",
     "output_type": "stream",
     "text": [
      "Vocab size 152070\n"
     ]
    }
   ],
   "source": [
    "words = w2v_model.wv.vocab.keys()\n",
    "vocab_size = len(words)\n",
    "print(\"Vocab size\", vocab_size)"
   ]
  },
  {
   "cell_type": "code",
   "execution_count": 12,
   "metadata": {
    "colab": {},
    "colab_type": "code",
    "id": "7_wQ0yFkdD-Z"
   },
   "outputs": [],
   "source": [
    "from nltk import tokenize\n",
    "\n",
    "reviews = []\n",
    "labels = []\n",
    "texts = []\n",
    "\n",
    "for idx, _ in df_train.iterrows():\n",
    "    text = df_train.text[idx]\n",
    "    texts.append(text)\n",
    "    sentences = tokenize.sent_tokenize(text)\n",
    "    reviews.append(sentences)\n",
    "    labels.append(df_train.target[idx])\n",
    "\n",
    "TRAIN_SIZE = len(texts)\n",
    "\n",
    "for idx, _ in df_test.iterrows():\n",
    "    text = df_test.text[idx]\n",
    "    texts.append(text)\n",
    "    sentences = tokenize.sent_tokenize(text)\n",
    "    reviews.append(sentences)\n",
    "    labels.append(df_test.target[idx])"
   ]
  },
  {
   "cell_type": "code",
   "execution_count": 13,
   "metadata": {
    "colab": {},
    "colab_type": "code",
    "id": "-6mhBj_8dGcq"
   },
   "outputs": [
    {
     "name": "stdout",
     "output_type": "stream",
     "text": [
      "Total 274081 unique tokens.\n"
     ]
    }
   ],
   "source": [
    "from keras.preprocessing.text import text_to_word_sequence\n",
    "\n",
    "tokenizer = Tokenizer()\n",
    "tokenizer.fit_on_texts(texts)\n",
    "\n",
    "data = np.zeros((len(texts), MAX_SENTENCES, MAXLEN), dtype='int32')\n",
    "\n",
    "for i, sentences in enumerate(reviews):\n",
    "    for j, sent in enumerate(sentences):\n",
    "        if j < MAX_SENTENCES:\n",
    "            wordTokens = text_to_word_sequence(sent)\n",
    "            k = 0\n",
    "            for _, word in enumerate(wordTokens):\n",
    "                if k < MAXLEN and tokenizer.word_index[word] < MAX_WORDS:\n",
    "                    data[i, j, k] = tokenizer.word_index[word]\n",
    "                    k = k + 1\n",
    "\n",
    "word_index = tokenizer.word_index\n",
    "print('Total %s unique tokens.' % len(word_index))"
   ]
  },
  {
   "cell_type": "code",
   "execution_count": 14,
   "metadata": {
    "colab": {},
    "colab_type": "code",
    "id": "McHakWHEeaK3"
   },
   "outputs": [
    {
     "name": "stdout",
     "output_type": "stream",
     "text": [
      "Shape of reviews (data) tensor: (700000, 15, 100)\n",
      "Shape of sentiment (label) tensor: (700000, 5)\n"
     ]
    }
   ],
   "source": [
    "from keras.utils.np_utils import to_categorical\n",
    "\n",
    "labels = to_categorical(np.asarray(labels))\n",
    "print('Shape of reviews (data) tensor:', data.shape)\n",
    "print('Shape of sentiment (label) tensor:', labels.shape)"
   ]
  },
  {
   "cell_type": "code",
   "execution_count": 15,
   "metadata": {
    "colab": {},
    "colab_type": "code",
    "id": "gSftKvjGedZX"
   },
   "outputs": [],
   "source": [
    "x_train = data[:TRAIN_SIZE]\n",
    "y_train = labels[:TRAIN_SIZE]\n",
    "x_test = data[TRAIN_SIZE:]\n",
    "y_test = labels[TRAIN_SIZE:]"
   ]
  },
  {
   "cell_type": "code",
   "execution_count": 16,
   "metadata": {
    "colab": {},
    "colab_type": "code",
    "id": "LltnqjFLefze"
   },
   "outputs": [],
   "source": [
    "# building Hierachical Attention network\n",
    "embedding_matrix = np.random.random((len(word_index) + 1, EMBEDDING_DIM))\n",
    "for word, i in tokenizer.word_index.items():\n",
    "  if word in w2v_model.wv:\n",
    "    embedding_matrix[i] = w2v_model.wv[word]\n",
    "\n",
    "embedding_layer = Embedding(len(word_index) + 1, EMBEDDING_DIM, weights=[embedding_matrix],\n",
    "                            input_length=MAXLEN, trainable=False)"
   ]
  },
  {
   "cell_type": "code",
   "execution_count": 31,
   "metadata": {
    "colab": {},
    "colab_type": "code",
    "id": "GbeklepggNse"
   },
   "outputs": [
    {
     "name": "stdout",
     "output_type": "stream",
     "text": [
      "tracking <tf.Variable 'bahdanau_attention_network_13/Variable:0' shape=(100, 100) dtype=float32> W\n",
      "tracking <tf.Variable 'bahdanau_attention_network_13/Variable_1:0' shape=(100,) dtype=float32> b\n",
      "tracking <tf.Variable 'bahdanau_attention_network_14/Variable:0' shape=(100, 100) dtype=float32> W\n",
      "tracking <tf.Variable 'bahdanau_attention_network_14/Variable_1:0' shape=(100,) dtype=float32> b\n"
     ]
    }
   ],
   "source": [
    "sentence_input = Input(shape=(MAXLEN,), dtype='int32')\n",
    "embedded_sequences = embedding_layer(sentence_input)\n",
    "lstm_word = Bidirectional(GRU(50, return_sequences=True))(embedded_sequences)\n",
    "attn_word = BahdanauAttentionNetwork(100)(lstm_word)\n",
    "sentenceEncoder = Model(sentence_input, attn_word)\n",
    "\n",
    "review_input = Input(shape=(MAX_SENTENCES, MAXLEN), dtype='int32')\n",
    "review_encoder = TimeDistributed(sentenceEncoder)(review_input)\n",
    "lstm_sentence = Bidirectional(GRU(50, return_sequences=True))(review_encoder)\n",
    "attn_sentence = BahdanauAttentionNetwork(100)(lstm_sentence)\n",
    "preds = Dense(5, activation='softmax')(attn_sentence)\n",
    "model = Model(review_input, preds)"
   ]
  },
  {
   "cell_type": "code",
   "execution_count": 32,
   "metadata": {
    "colab": {},
    "colab_type": "code",
    "id": "1T3UjR5qgjjS"
   },
   "outputs": [
    {
     "name": "stdout",
     "output_type": "stream",
     "text": [
      "Model: \"model_7\"\n",
      "_________________________________________________________________\n",
      "Layer (type)                 Output Shape              Param #   \n",
      "=================================================================\n",
      "input_15 (InputLayer)        (None, 15, 100)           0         \n",
      "_________________________________________________________________\n",
      "time_distributed_6 (TimeDist (None, 15, 100)           54901800  \n",
      "_________________________________________________________________\n",
      "bidirectional_15 (Bidirectio (None, 15, 100)           45300     \n",
      "_________________________________________________________________\n",
      "bahdanau_attention_network_1 (None, 100)               10100     \n",
      "_________________________________________________________________\n",
      "dense_1 (Dense)              (None, 5)                 505       \n",
      "=================================================================\n",
      "Total params: 54,957,705\n",
      "Trainable params: 141,305\n",
      "Non-trainable params: 54,816,400\n",
      "_________________________________________________________________\n"
     ]
    }
   ],
   "source": [
    "from keras import optimizers\n",
    "sgd = optimizers.SGD(lr=0.01, momentum=0.9, nesterov=False)\n",
    "model.compile(loss='categorical_crossentropy', optimizer=sgd, metrics=['acc'])\n",
    "model.summary()"
   ]
  },
  {
   "cell_type": "code",
   "execution_count": 33,
   "metadata": {
    "colab": {},
    "colab_type": "code",
    "id": "_8GkVEpnhbbj"
   },
   "outputs": [],
   "source": [
    "callbacks = [EarlyStopping(monitor='val_acc', patience=5, mode='max')]"
   ]
  },
  {
   "cell_type": "code",
   "execution_count": 34,
   "metadata": {
    "colab": {},
    "colab_type": "code",
    "id": "BWhUwY-5hH6D"
   },
   "outputs": [
    {
     "name": "stdout",
     "output_type": "stream",
     "text": [
      "model fitting - Hierachical attention network\n"
     ]
    },
    {
     "name": "stderr",
     "output_type": "stream",
     "text": [
      "C:\\Users\\covin\\miniconda3\\envs\\tensorflow1\\lib\\site-packages\\ipykernel_launcher.py:2: UserWarning: The `nb_epoch` argument in `fit` has been renamed `epochs`.\n",
      "  \n"
     ]
    },
    {
     "name": "stdout",
     "output_type": "stream",
     "text": [
      "WARNING:tensorflow:From C:\\Users\\covin\\miniconda3\\envs\\tensorflow1\\lib\\site-packages\\keras\\backend\\tensorflow_backend.py:422: The name tf.global_variables is deprecated. Please use tf.compat.v1.global_variables instead.\n",
      "\n"
     ]
    },
    {
     "name": "stderr",
     "output_type": "stream",
     "text": [
      "2020-05-06 11:15:58,751 : WARNING : From C:\\Users\\covin\\miniconda3\\envs\\tensorflow1\\lib\\site-packages\\keras\\backend\\tensorflow_backend.py:422: The name tf.global_variables is deprecated. Please use tf.compat.v1.global_variables instead.\n",
      "\n"
     ]
    },
    {
     "name": "stdout",
     "output_type": "stream",
     "text": [
      "Train on 520000 samples, validate on 130000 samples\n",
      "Epoch 1/10\n",
      "520000/520000 [==============================] - 3235s 6ms/step - loss: 1.0720 - acc: 0.5177 - val_loss: 0.8808 - val_acc: 0.6154\n",
      "Epoch 2/10\n",
      "520000/520000 [==============================] - 3288s 6ms/step - loss: 0.9043 - acc: 0.6001 - val_loss: 0.8316 - val_acc: 0.6360\n",
      "Epoch 3/10\n",
      "520000/520000 [==============================] - 3350s 6ms/step - loss: 0.8696 - acc: 0.6154 - val_loss: 0.8106 - val_acc: 0.6465\n",
      "Epoch 4/10\n",
      "520000/520000 [==============================] - 3347s 6ms/step - loss: 0.8495 - acc: 0.6252 - val_loss: 0.7904 - val_acc: 0.6574\n",
      "Epoch 5/10\n",
      "520000/520000 [==============================] - 3348s 6ms/step - loss: 0.8348 - acc: 0.6321 - val_loss: 0.7808 - val_acc: 0.6603\n",
      "Epoch 6/10\n",
      "520000/520000 [==============================] - 3351s 6ms/step - loss: 0.8228 - acc: 0.6373 - val_loss: 0.7796 - val_acc: 0.6592\n",
      "Epoch 7/10\n",
      "520000/520000 [==============================] - 3351s 6ms/step - loss: 0.8133 - acc: 0.6421 - val_loss: 0.7663 - val_acc: 0.6688\n",
      "Epoch 8/10\n",
      "520000/520000 [==============================] - 3353s 6ms/step - loss: 0.8047 - acc: 0.6457 - val_loss: 0.7714 - val_acc: 0.6642\n",
      "Epoch 9/10\n",
      "520000/520000 [==============================] - 3350s 6ms/step - loss: 0.7974 - acc: 0.6495 - val_loss: 0.7700 - val_acc: 0.6656\n",
      "Epoch 10/10\n",
      "520000/520000 [==============================] - 3352s 6ms/step - loss: 0.7908 - acc: 0.6524 - val_loss: 0.7993 - val_acc: 0.6546\n"
     ]
    }
   ],
   "source": [
    "print(\"model fitting - Hierachical attention network\")\n",
    "history = model.fit(x_train, y_train, validation_split=0.2, nb_epoch=10, batch_size=64, callbacks=callbacks)"
   ]
  },
  {
   "cell_type": "code",
   "execution_count": 35,
   "metadata": {
    "colab": {},
    "colab_type": "code",
    "id": "VoH-bwtAhoy2"
   },
   "outputs": [
    {
     "name": "stdout",
     "output_type": "stream",
     "text": [
      "50000/50000 [==============================] - 114s 2ms/step\n",
      "\n",
      "ACCURACY: 0.626479983329773\n",
      "LOSS: 0.8505946266651153\n",
      "Wall time: 1min 53s\n"
     ]
    }
   ],
   "source": [
    "%%time\n",
    "score = model.evaluate(x_test, y_test, batch_size=100)\n",
    "print()\n",
    "print(\"ACCURACY:\",score[1])\n",
    "print(\"LOSS:\",score[0])"
   ]
  },
  {
   "cell_type": "code",
   "execution_count": 36,
   "metadata": {
    "colab": {},
    "colab_type": "code",
    "id": "x9poJkLZhpo0"
   },
   "outputs": [
    {
     "data": {
      "image/png": "[encoded data removed]",
      "text/plain": [
       "<Figure size 432x288 with 1 Axes>"
      ]
     },
     "metadata": {
      "needs_background": "light"
     },
     "output_type": "display_data"
    },
    {
     "data": {
      "image/png": "[encoded data removed]",
      "text/plain": [
       "<Figure size 432x288 with 1 Axes>"
      ]
     },
     "metadata": {
      "needs_background": "light"
     },
     "output_type": "display_data"
    }
   ],
   "source": [
    "acc = history.history['acc']\n",
    "val_acc = history.history['val_acc']\n",
    "loss = history.history['loss']\n",
    "val_loss = history.history['val_loss']\n",
    " \n",
    "epochs = range(len(acc))\n",
    " \n",
    "plt.plot(epochs, acc, 'b', label='Training acc')\n",
    "plt.plot(epochs, val_acc, 'r', label='Validation acc')\n",
    "plt.title('Training and validation accuracy')\n",
    "plt.legend()\n",
    " \n",
    "plt.figure()\n",
    " \n",
    "plt.plot(epochs, loss, 'b', label='Training loss')\n",
    "plt.plot(epochs, val_loss, 'r', label='Validation loss')\n",
    "plt.title('Training and validation loss')\n",
    "plt.legend()\n",
    " \n",
    "plt.show()"
   ]
  },
  {
   "cell_type": "code",
   "execution_count": 37,
   "metadata": {},
   "outputs": [],
   "source": [
    "model.save(\"hatn_yelp_modregex_200d_bahdanau.h5\")\n",
    "#w2v_model.save(\"w2v2_modregex_200.w2v\")\n",
    "pickle.dump(tokenizer, open(\"tokenizer2_modregex_bahdanau.pkl\", \"wb\"), protocol=0)"
   ]
  },
  {
   "cell_type": "code",
   "execution_count": 38,
   "metadata": {},
   "outputs": [],
   "source": [
    "from nltk import tokenize\n",
    "from keras.preprocessing.text import text_to_word_sequence\n",
    "\n",
    "def predict_new_text(text, model, tokenizer):\n",
    "    text = preprocess(text)\n",
    "    texts = []\n",
    "    reviews = []\n",
    "    texts.append(text)\n",
    "    sentences = tokenize.sent_tokenize(text)\n",
    "    reviews.append(sentences)\n",
    "\n",
    "    data = np.zeros((len(texts), MAX_SENTENCES, MAXLEN), dtype='int32')\n",
    "\n",
    "    for i, sentences in enumerate(reviews):\n",
    "        for j, sent in enumerate(sentences):\n",
    "            if j < MAX_SENTENCES:\n",
    "                wordTokens = text_to_word_sequence(sent)\n",
    "                k = 0\n",
    "                for _, word in enumerate(wordTokens):\n",
    "                    if k < MAXLEN and tokenizer.word_index[word] < MAX_WORDS:\n",
    "                        data[i, j, k] = tokenizer.word_index[word]\n",
    "                        k = k + 1\n",
    "                        \n",
    "    ynew = model.predict(data)\n",
    "    return ynew"
   ]
  },
  {
   "cell_type": "code",
   "execution_count": 39,
   "metadata": {},
   "outputs": [
    {
     "name": "stdout",
     "output_type": "stream",
     "text": [
      "[[0.01238096 0.00668822 0.04637856 0.14053632 0.7940159 ]]\n",
      "5\n"
     ]
    }
   ],
   "source": [
    "text = \"the restaurant we went yesterday was wonderful.\"\n",
    "print(predict_new_text(text, model, tokenizer))\n",
    "labels = [1, 2, 3, 4, 5]\n",
    "print(labels[np.argmax(predict_new_text(text,model, tokenizer))])"
   ]
  },
  {
   "cell_type": "code",
   "execution_count": 40,
   "metadata": {},
   "outputs": [
    {
     "name": "stdout",
     "output_type": "stream",
     "text": [
      "[[9.88760114e-01 1.09971445e-02 2.37422020e-04 3.12235989e-06\n",
      "  2.22142990e-06]]\n",
      "1\n"
     ]
    }
   ],
   "source": [
    "text = \"the restaurant we went yesterday was awful. The food was bad, the service was bad. Horrible place, disgusting food.\"\n",
    "print(predict_new_text(text, model, tokenizer))\n",
    "labels = [1, 2, 3, 4, 5]\n",
    "print(labels[np.argmax(predict_new_text(text,model, tokenizer))])"
   ]
  },
  {
   "cell_type": "code",
   "execution_count": 41,
   "metadata": {},
   "outputs": [
    {
     "name": "stdout",
     "output_type": "stream",
     "text": [
      "[[0.00438263 0.04453542 0.5460467  0.3064604  0.09857486]]\n",
      "3\n"
     ]
    }
   ],
   "source": [
    "text = \"The movie was good, funny and entertaining. Good cast and plot.\"\n",
    "print(predict_new_text(text, model, tokenizer))\n",
    "labels = [1, 2, 3, 4, 5]\n",
    "print(labels[np.argmax(predict_new_text(text,model, tokenizer))])"
   ]
  },
  {
   "cell_type": "code",
   "execution_count": 42,
   "metadata": {},
   "outputs": [
    {
     "name": "stdout",
     "output_type": "stream",
     "text": [
      "[[5.6951261e-01 3.3995640e-01 8.8047132e-02 2.1548111e-03 3.2909802e-04]]\n",
      "1\n"
     ]
    }
   ],
   "source": [
    "text = \"The movie was bad, boring and too slow paced. Bad cast and plot.\"\n",
    "print(predict_new_text(text, model, tokenizer))\n",
    "labels = [1, 2, 3, 4, 5]\n",
    "print(labels[np.argmax(predict_new_text(text,model, tokenizer))])"
   ]
  },
  {
   "cell_type": "code",
   "execution_count": 43,
   "metadata": {},
   "outputs": [],
   "source": [
    "from sklearn.metrics import confusion_matrix\n",
    "\n",
    "y_pred = model.predict(x_test)"
   ]
  },
  {
   "cell_type": "code",
   "execution_count": 44,
   "metadata": {},
   "outputs": [],
   "source": [
    "def plot_confusion_matrix(cm, classes,\n",
    "                          normalize=False,\n",
    "                          title='Confusion matrix',\n",
    "                          cmap=plt.cm.Blues):\n",
    "    \"\"\"\n",
    "    This function prints and plots the confusion matrix.\n",
    "    Normalization can be applied by setting `normalize=True`.\n",
    "    \"\"\"\n",
    "    if normalize:\n",
    "        cm = cm.astype('float') / cm.sum(axis=1)[:, np.newaxis]\n",
    "        print(\"Normalized confusion matrix\")\n",
    "    else:\n",
    "        print('Confusion matrix, without normalization')\n",
    "\n",
    "    # print(cm)\n",
    "\n",
    "    plt.imshow(cm, interpolation='nearest', cmap=cmap)\n",
    "    plt.title(title)\n",
    "    plt.colorbar()\n",
    "    tick_marks = np.arange(len(classes))\n",
    "    plt.xticks(tick_marks, classes, rotation=90)\n",
    "    plt.yticks(tick_marks, classes)\n",
    "\n",
    "    fmt = '.2f' if normalize else 'd'\n",
    "    thresh = cm.max() / 2.\n",
    "    for i, j in itertools.product(range(cm.shape[0]), range(cm.shape[1])):\n",
    "        plt.text(j, i, format(cm[i, j], fmt),\n",
    "                 horizontalalignment=\"center\",\n",
    "                 color=\"white\" if cm[i, j] > thresh else \"black\")\n",
    "\n",
    "    plt.tight_layout()\n",
    "    plt.ylabel('True label')\n",
    "    plt.xlabel('Predicted label')"
   ]
  },
  {
   "cell_type": "code",
   "execution_count": 45,
   "metadata": {},
   "outputs": [
    {
     "name": "stdout",
     "output_type": "stream",
     "text": [
      "Normalized confusion matrix\n"
     ]
    },
    {
     "data": {
      "image/png": "[encoded data removed]",
      "text/plain": [
       "<Figure size 432x288 with 2 Axes>"
      ]
     },
     "metadata": {
      "needs_background": "light"
     },
     "output_type": "display_data"
    }
   ],
   "source": [
    "conf_matrix = confusion_matrix(y_test.argmax(axis=1), y_pred.argmax(axis=1))\n",
    "label_names = ['0', '1', '2', '3', '4']\n",
    "plot_confusion_matrix(conf_matrix, classes=np.asarray(label_names), normalize=True,\n",
    "                      title='Normalized confusion matrix')"
   ]
  }
 ],
 "metadata": {
  "accelerator": "GPU",
  "colab": {
   "name": "HATN_yelp2.ipynb",
   "provenance": []
  },
  "kernelspec": {
   "display_name": "Python 3",
   "language": "python",
   "name": "python3"
  },
  "language_info": {
   "codemirror_mode": {
    "name": "ipython",
    "version": 3
   },
   "file_extension": ".py",
   "mimetype": "text/x-python",
   "name": "python",
   "nbconvert_exporter": "python",
   "pygments_lexer": "ipython3",
   "version": "3.7.7"
  }
 },
 "nbformat": 4,
 "nbformat_minor": 1
}
