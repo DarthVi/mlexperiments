{
  "nbformat": 4,
  "nbformat_minor": 0,
  "metadata": {
    "accelerator": "GPU",
    "colab": {
      "name": "CNN_yelp_word2vec.ipynb",
      "provenance": []
    },
    "kernelspec": {
      "display_name": "Python 3",
      "language": "python",
      "name": "python3"
    },
    "language_info": {
      "codemirror_mode": {
        "name": "ipython",
        "version": 3
      },
      "file_extension": ".py",
      "mimetype": "text/x-python",
      "name": "python",
      "nbconvert_exporter": "python",
      "pygments_lexer": "ipython3",
      "version": "3.7.7"
    }
  },
  "cells": [
    {
      "cell_type": "code",
      "metadata": {
        "colab_type": "code",
        "id": "_MlnnNQuCY1A",
        "outputId": "c4945596-e711-409d-e646-4dd701fbe093",
        "colab": {
          "base_uri": "https://localhost:8080/",
          "height": 52
        }
      },
      "source": [
        "%tensorflow_version 1.x\n",
        "\n",
        "# DataFrame\n",
        "import pandas as pd\n",
        "\n",
        "# Matplot\n",
        "import matplotlib.pyplot as plt\n",
        "%matplotlib inline\n",
        "\n",
        "# Scikit-learn\n",
        "from sklearn.model_selection import train_test_split\n",
        "from sklearn.preprocessing import LabelEncoder\n",
        "from sklearn.metrics import confusion_matrix, classification_report, accuracy_score\n",
        "from sklearn.manifold import TSNE\n",
        "from sklearn.feature_extraction.text import TfidfVectorizer\n",
        "\n",
        "# Keras\n",
        "from keras.preprocessing.text import Tokenizer\n",
        "from keras.preprocessing.sequence import pad_sequences\n",
        "from keras.models import Sequential, Model\n",
        "from keras.layers import Input, Activation, Dense, Dropout, Embedding, Flatten, Conv1D, MaxPooling1D, LSTM, concatenate\n",
        "from keras.layers import GaussianDropout, GaussianNoise, RepeatVector, Permute\n",
        "from keras.layers import GRU, Bidirectional, TimeDistributed, Multiply, Lambda, GlobalMaxPooling1D\n",
        "from keras import utils\n",
        "from keras.callbacks import ReduceLROnPlateau, EarlyStopping\n",
        "\n",
        "# nltk\n",
        "import nltk\n",
        "from nltk.corpus import stopwords\n",
        "from  nltk.stem import SnowballStemmer\n",
        "\n",
        "# Word2vec\n",
        "import gensim\n",
        "\n",
        "# Utility\n",
        "import os\n",
        "import re\n",
        "import numpy as np\n",
        "from collections import Counter\n",
        "import logging\n",
        "import time\n",
        "import pickle\n",
        "import itertools\n",
        "\n",
        "# Set log\n",
        "logging.basicConfig(format='%(asctime)s : %(levelname)s : %(message)s', level=logging.INFO)"
      ],
      "execution_count": 1,
      "outputs": [
        {
          "output_type": "stream",
          "text": [
            "TensorFlow 1.x selected.\n"
          ],
          "name": "stdout"
        },
        {
          "output_type": "stream",
          "text": [
            "Using TensorFlow backend.\n"
          ],
          "name": "stderr"
        }
      ]
    },
    {
      "cell_type": "code",
      "metadata": {
        "id": "H5vFNpvBZyPs",
        "colab_type": "code",
        "outputId": "be0d9d66-a711-45ff-d189-7f5b343731d3",
        "colab": {
          "base_uri": "https://localhost:8080/",
          "height": 34
        }
      },
      "source": [
        "from google.colab import drive\n",
        "drive.mount('/content/drive')"
      ],
      "execution_count": 2,
      "outputs": [
        {
          "output_type": "stream",
          "text": [
            "Drive already mounted at /content/drive; to attempt to forcibly remount, call drive.mount(\"/content/drive\", force_remount=True).\n"
          ],
          "name": "stdout"
        }
      ]
    },
    {
      "cell_type": "code",
      "metadata": {
        "colab_type": "code",
        "id": "zRYb9ExIgGZM",
        "colab": {}
      },
      "source": [
        "# DATASET\n",
        "DATASET_COLUMNS = [\"target\", \"text\"]\n",
        "DATASET_ENCODING = \"ISO-8859-1\"\n",
        "TRAIN_SIZE = 0.8\n",
        "\n",
        "# TEXT CLENAING\n",
        "TEXT_CLEANING_RE = \"@\\S+|https?:\\S+|http?:\\S\"\n",
        "\n",
        "# WORD2VEC\n",
        "W2V_WINDOW = 7\n",
        "W2V_EPOCH = 32\n",
        "W2V_MIN_COUNT = 6\n",
        "W2V_SIZE = 200\n",
        "\n",
        "SEQUENCE_LENGTH = 200\n",
        "\n",
        "MAXLEN = 100\n",
        "MAX_SENT_LENGTH = 1500\n",
        "MAX_WORDS = 20000\n",
        "EMBEDDING_DIM = 200\n",
        "VALIDATION_SPLIT = 0.2\n",
        "\n",
        "# EXPORT\n",
        "KERAS_MODEL = \"model.h5\"\n",
        "WORD2VEC_MODEL = \"model.w2v\"\n",
        "TOKENIZER_MODEL = \"tokenizer.pkl\"\n",
        "ENCODER_MODEL = \"encoder.pkl\""
      ],
      "execution_count": 0,
      "outputs": []
    },
    {
      "cell_type": "code",
      "metadata": {
        "colab_type": "code",
        "id": "xWtQiS78haMB",
        "colab": {}
      },
      "source": [
        "df_train = pd.read_csv(\"/content/drive/My Drive/Colab Notebooks/yelp2015/train.csv\", encoding=DATASET_ENCODING , names=DATASET_COLUMNS)\n",
        "df_test = pd.read_csv(\"/content/drive/My Drive/Colab Notebooks/yelp2015/test.csv\", encoding=DATASET_ENCODING , names=DATASET_COLUMNS)"
      ],
      "execution_count": 0,
      "outputs": []
    },
    {
      "cell_type": "code",
      "metadata": {
        "colab_type": "code",
        "id": "3U1IuY9ZhmI5",
        "colab": {}
      },
      "source": [
        "def preprocess(text):\n",
        "    # Remove link,user and special characters\n",
        "    text = re.sub(TEXT_CLEANING_RE, ' ', str(text).lower()).strip()\n",
        "    tokens = []\n",
        "    for token in text.split():\n",
        "      tokens.append(token)\n",
        "    return \" \".join(tokens)"
      ],
      "execution_count": 0,
      "outputs": []
    },
    {
      "cell_type": "code",
      "metadata": {
        "colab_type": "code",
        "id": "iotRlbmoiWJ0",
        "outputId": "6917af5a-6ae3-4a88-e237-07a14a4a5506",
        "colab": {
          "base_uri": "https://localhost:8080/",
          "height": 52
        }
      },
      "source": [
        "%%time\n",
        "df_train.text = df_train.text.apply(lambda x: preprocess(x))\n",
        "df_test.text = df_test.text.apply(lambda x: preprocess(x))"
      ],
      "execution_count": 6,
      "outputs": [
        {
          "output_type": "stream",
          "text": [
            "CPU times: user 20 s, sys: 379 ms, total: 20.4 s\n",
            "Wall time: 20.4 s\n"
          ],
          "name": "stdout"
        }
      ]
    },
    {
      "cell_type": "code",
      "metadata": {
        "colab_type": "code",
        "id": "bmPV31o3iaD1",
        "colab": {}
      },
      "source": [
        "decode_map = {1: 0, 2: 1, 3: 2, 4: 3, 5: 4}\n",
        "def decode_sentiment(label):\n",
        "    return decode_map[int(label)]"
      ],
      "execution_count": 0,
      "outputs": []
    },
    {
      "cell_type": "code",
      "metadata": {
        "colab_type": "code",
        "id": "bCsD71TZityS",
        "outputId": "1d213fe7-7b33-4fa3-f28d-8f9e28a70150",
        "colab": {
          "base_uri": "https://localhost:8080/",
          "height": 52
        }
      },
      "source": [
        "%%time\n",
        "df_train.target = df_train.target.apply(lambda x: decode_sentiment(x))\n",
        "df_test.target = df_test.target.apply(lambda x: decode_sentiment(x))"
      ],
      "execution_count": 8,
      "outputs": [
        {
          "output_type": "stream",
          "text": [
            "CPU times: user 356 ms, sys: 2.91 ms, total: 358 ms\n",
            "Wall time: 361 ms\n"
          ],
          "name": "stdout"
        }
      ]
    },
    {
      "cell_type": "code",
      "metadata": {
        "colab_type": "code",
        "id": "IXYv-HqmixB-",
        "outputId": "1d4a1d30-c6e7-42c0-aff2-80fc75a0f557",
        "colab": {
          "base_uri": "https://localhost:8080/",
          "height": 69
        }
      },
      "source": [
        "nltk.download('punkt')"
      ],
      "execution_count": 9,
      "outputs": [
        {
          "output_type": "stream",
          "text": [
            "[nltk_data] Downloading package punkt to /root/nltk_data...\n",
            "[nltk_data]   Package punkt is already up-to-date!\n"
          ],
          "name": "stdout"
        },
        {
          "output_type": "execute_result",
          "data": {
            "text/plain": [
              "True"
            ]
          },
          "metadata": {
            "tags": []
          },
          "execution_count": 9
        }
      ]
    },
    {
      "cell_type": "code",
      "metadata": {
        "colab_type": "code",
        "id": "E7RWHPuLcJ8d",
        "outputId": "e24fcae7-f96a-46e5-a11a-db24e03b30ea",
        "colab": {
          "base_uri": "https://localhost:8080/",
          "height": 229
        }
      },
      "source": [
        "from gensim.models import Word2Vec\n",
        "\n",
        "w2v_model = Word2Vec.load(\"/content/drive/My Drive/Colab Notebooks/w2v2_modregex_200.w2v\")"
      ],
      "execution_count": 10,
      "outputs": [
        {
          "output_type": "stream",
          "text": [
            "2020-05-14 13:48:53,922 : INFO : loading Word2Vec object from /content/drive/My Drive/Colab Notebooks/w2v2_modregex_200.w2v\n",
            "/usr/local/lib/python3.6/dist-packages/smart_open/smart_open_lib.py:253: UserWarning: This function is deprecated, use smart_open.open instead. See the migration notes for details: https://github.com/RaRe-Technologies/smart_open/blob/master/README.rst#migrating-to-the-new-open-function\n",
            "  'See the migration notes for details: %s' % _MIGRATION_NOTES_URL\n",
            "2020-05-14 13:48:54,516 : INFO : loading wv recursively from /content/drive/My Drive/Colab Notebooks/w2v2_modregex_200.w2v.wv.* with mmap=None\n",
            "2020-05-14 13:48:54,518 : INFO : loading vectors from /content/drive/My Drive/Colab Notebooks/w2v2_modregex_200.w2v.wv.vectors.npy with mmap=None\n",
            "2020-05-14 13:48:54,730 : INFO : setting ignored attribute vectors_norm to None\n",
            "2020-05-14 13:48:54,731 : INFO : loading vocabulary recursively from /content/drive/My Drive/Colab Notebooks/w2v2_modregex_200.w2v.vocabulary.* with mmap=None\n",
            "2020-05-14 13:48:54,737 : INFO : loading trainables recursively from /content/drive/My Drive/Colab Notebooks/w2v2_modregex_200.w2v.trainables.* with mmap=None\n",
            "2020-05-14 13:48:54,740 : INFO : loading syn1neg from /content/drive/My Drive/Colab Notebooks/w2v2_modregex_200.w2v.trainables.syn1neg.npy with mmap=None\n",
            "2020-05-14 13:48:54,954 : INFO : setting ignored attribute cum_table to None\n",
            "2020-05-14 13:48:54,955 : INFO : loaded /content/drive/My Drive/Colab Notebooks/w2v2_modregex_200.w2v\n"
          ],
          "name": "stderr"
        }
      ]
    },
    {
      "cell_type": "code",
      "metadata": {
        "colab_type": "code",
        "id": "s_KSNQbVcU5P",
        "outputId": "4a87241b-314a-400a-9376-6e6c73375c54",
        "colab": {
          "base_uri": "https://localhost:8080/",
          "height": 34
        }
      },
      "source": [
        "words = w2v_model.wv.vocab.keys()\n",
        "vocab_size = len(words)\n",
        "print(\"Vocab size\", vocab_size)"
      ],
      "execution_count": 11,
      "outputs": [
        {
          "output_type": "stream",
          "text": [
            "Vocab size 152070\n"
          ],
          "name": "stdout"
        }
      ]
    },
    {
      "cell_type": "code",
      "metadata": {
        "colab_type": "code",
        "id": "7_wQ0yFkdD-Z",
        "outputId": "b71f9e7c-7447-4c6c-93c7-8f2c1f5c6a07",
        "colab": {
          "base_uri": "https://localhost:8080/",
          "height": 69
        }
      },
      "source": [
        "%%time\n",
        "tokenizer = Tokenizer()\n",
        "tokenizer.fit_on_texts(df_train.text)\n",
        "\n",
        "vocab_size = len(tokenizer.word_index) + 1\n",
        "print(\"Total words\", vocab_size)"
      ],
      "execution_count": 12,
      "outputs": [
        {
          "output_type": "stream",
          "text": [
            "Total words 264006\n",
            "CPU times: user 1min 10s, sys: 62.8 ms, total: 1min 10s\n",
            "Wall time: 1min 10s\n"
          ],
          "name": "stdout"
        }
      ]
    },
    {
      "cell_type": "code",
      "metadata": {
        "colab_type": "code",
        "id": "-6mhBj_8dGcq",
        "outputId": "4f5524b6-533c-4cce-f88e-f8195f3d51a0",
        "colab": {
          "base_uri": "https://localhost:8080/",
          "height": 52
        }
      },
      "source": [
        "%%time\n",
        "x_train = pad_sequences(tokenizer.texts_to_sequences(df_train.text), maxlen=MAX_SENT_LENGTH)\n",
        "x_test = pad_sequences(tokenizer.texts_to_sequences(df_test.text), maxlen=MAX_SENT_LENGTH)"
      ],
      "execution_count": 13,
      "outputs": [
        {
          "output_type": "stream",
          "text": [
            "CPU times: user 1min 7s, sys: 1.4 s, total: 1min 8s\n",
            "Wall time: 1min 8s\n"
          ],
          "name": "stdout"
        }
      ]
    },
    {
      "cell_type": "code",
      "metadata": {
        "colab_type": "code",
        "id": "McHakWHEeaK3",
        "outputId": "cad4dc87-1401-4c9f-975d-999f452dacc9",
        "colab": {
          "base_uri": "https://localhost:8080/",
          "height": 52
        }
      },
      "source": [
        "from keras.utils.np_utils import to_categorical\n",
        "\n",
        "y_train = to_categorical(np.asarray(df_train.target))\n",
        "y_test = to_categorical(np.asarray(df_test.target))\n",
        "\n",
        "\n",
        "print(\"y_train\",y_train.shape)\n",
        "print(\"y_test\",y_test.shape)"
      ],
      "execution_count": 14,
      "outputs": [
        {
          "output_type": "stream",
          "text": [
            "y_train (650000, 5)\n",
            "y_test (50000, 5)\n"
          ],
          "name": "stdout"
        }
      ]
    },
    {
      "cell_type": "code",
      "metadata": {
        "colab_type": "code",
        "id": "LltnqjFLefze",
        "colab": {}
      },
      "source": [
        "word_index = tokenizer.word_index\n",
        "\n",
        "# building Hierachical Attention network\n",
        "embedding_matrix = np.random.random((len(word_index) + 1, EMBEDDING_DIM))\n",
        "for word, i in tokenizer.word_index.items():\n",
        "  if word in w2v_model.wv:\n",
        "    embedding_matrix[i] = w2v_model.wv[word]\n",
        "\n",
        "embedding_layer = Embedding(len(word_index) + 1, EMBEDDING_DIM, weights=[embedding_matrix],\n",
        "                            input_length=MAX_SENT_LENGTH, trainable=False, name='Embedding')"
      ],
      "execution_count": 0,
      "outputs": []
    },
    {
      "cell_type": "code",
      "metadata": {
        "colab_type": "code",
        "id": "GbeklepggNse",
        "outputId": "30c2a709-6e17-4515-bb66-cea35675091b",
        "colab": {
          "base_uri": "https://localhost:8080/",
          "height": 141
        }
      },
      "source": [
        "input_layer = Input(shape=(MAX_SENT_LENGTH,), name = 'Input')\n",
        "embedded_layer = embedding_layer(input_layer)\n",
        "\n",
        "conv1 = Conv1D(200, 3, activation='relu')(embedded_layer)\n",
        "conv2 = Conv1D(200, 4, activation='relu')(embedded_layer)\n",
        "conv3 = Conv1D(200, 5, activation='relu')(embedded_layer)\n",
        "\n",
        "pool1 = GlobalMaxPooling1D()(conv1)\n",
        "pool2 = GlobalMaxPooling1D()(conv2)\n",
        "pool3 = GlobalMaxPooling1D()(conv3)\n",
        "\n",
        "conc_layer = concatenate([pool3, pool2, pool1])\n",
        "drop1 = Dropout(0.5)(conc_layer)\n",
        "fc_layer1 = Dense(units=30, name='FullyConnected1')(drop1)\n",
        "drop2 = Dropout(0.5)(fc_layer1)\n",
        "preds = Dense(5, activation='softmax')(drop2)\n",
        "model = Model(input_layer, preds)"
      ],
      "execution_count": 16,
      "outputs": [
        {
          "output_type": "stream",
          "text": [
            "WARNING:tensorflow:From /tensorflow-1.15.2/python3.6/tensorflow_core/python/ops/resource_variable_ops.py:1630: calling BaseResourceVariable.__init__ (from tensorflow.python.ops.resource_variable_ops) with constraint is deprecated and will be removed in a future version.\n",
            "Instructions for updating:\n",
            "If using Keras pass *_constraint arguments to layers.\n"
          ],
          "name": "stdout"
        },
        {
          "output_type": "stream",
          "text": [
            "2020-05-14 13:51:15,450 : WARNING : From /tensorflow-1.15.2/python3.6/tensorflow_core/python/ops/resource_variable_ops.py:1630: calling BaseResourceVariable.__init__ (from tensorflow.python.ops.resource_variable_ops) with constraint is deprecated and will be removed in a future version.\n",
            "Instructions for updating:\n",
            "If using Keras pass *_constraint arguments to layers.\n"
          ],
          "name": "stderr"
        }
      ]
    },
    {
      "cell_type": "code",
      "metadata": {
        "colab_type": "code",
        "id": "1T3UjR5qgjjS",
        "outputId": "4466b294-446f-41f8-c56c-0f527c29a250",
        "colab": {
          "base_uri": "https://localhost:8080/",
          "height": 645
        }
      },
      "source": [
        "from keras import optimizers\n",
        "adam = optimizers.Adam(learning_rate=0.001)\n",
        "model.compile(loss='categorical_crossentropy', optimizer=adam, metrics=['acc'])\n",
        "model.summary()"
      ],
      "execution_count": 17,
      "outputs": [
        {
          "output_type": "stream",
          "text": [
            "Model: \"model_1\"\n",
            "__________________________________________________________________________________________________\n",
            "Layer (type)                    Output Shape         Param #     Connected to                     \n",
            "==================================================================================================\n",
            "Input (InputLayer)              (None, 1500)         0                                            \n",
            "__________________________________________________________________________________________________\n",
            "Embedding (Embedding)           (None, 1500, 200)    52801200    Input[0][0]                      \n",
            "__________________________________________________________________________________________________\n",
            "conv1d_3 (Conv1D)               (None, 1496, 200)    200200      Embedding[0][0]                  \n",
            "__________________________________________________________________________________________________\n",
            "conv1d_2 (Conv1D)               (None, 1497, 200)    160200      Embedding[0][0]                  \n",
            "__________________________________________________________________________________________________\n",
            "conv1d_1 (Conv1D)               (None, 1498, 200)    120200      Embedding[0][0]                  \n",
            "__________________________________________________________________________________________________\n",
            "global_max_pooling1d_3 (GlobalM (None, 200)          0           conv1d_3[0][0]                   \n",
            "__________________________________________________________________________________________________\n",
            "global_max_pooling1d_2 (GlobalM (None, 200)          0           conv1d_2[0][0]                   \n",
            "__________________________________________________________________________________________________\n",
            "global_max_pooling1d_1 (GlobalM (None, 200)          0           conv1d_1[0][0]                   \n",
            "__________________________________________________________________________________________________\n",
            "concatenate_1 (Concatenate)     (None, 600)          0           global_max_pooling1d_3[0][0]     \n",
            "                                                                 global_max_pooling1d_2[0][0]     \n",
            "                                                                 global_max_pooling1d_1[0][0]     \n",
            "__________________________________________________________________________________________________\n",
            "dropout_1 (Dropout)             (None, 600)          0           concatenate_1[0][0]              \n",
            "__________________________________________________________________________________________________\n",
            "FullyConnected1 (Dense)         (None, 30)           18030       dropout_1[0][0]                  \n",
            "__________________________________________________________________________________________________\n",
            "dropout_2 (Dropout)             (None, 30)           0           FullyConnected1[0][0]            \n",
            "__________________________________________________________________________________________________\n",
            "dense_1 (Dense)                 (None, 5)            155         dropout_2[0][0]                  \n",
            "==================================================================================================\n",
            "Total params: 53,299,985\n",
            "Trainable params: 498,785\n",
            "Non-trainable params: 52,801,200\n",
            "__________________________________________________________________________________________________\n"
          ],
          "name": "stdout"
        }
      ]
    },
    {
      "cell_type": "code",
      "metadata": {
        "colab_type": "code",
        "id": "_8GkVEpnhbbj",
        "colab": {}
      },
      "source": [
        "callbacks = [EarlyStopping(monitor='val_acc', patience=5, mode='max')]"
      ],
      "execution_count": 0,
      "outputs": []
    },
    {
      "cell_type": "code",
      "metadata": {
        "colab_type": "code",
        "id": "BWhUwY-5hH6D",
        "outputId": "646af818-1554-4b81-a6af-4e1522903749",
        "colab": {
          "base_uri": "https://localhost:8080/",
          "height": 351
        }
      },
      "source": [
        "print(\"model fitting - Hierachical attention network\")\n",
        "history = model.fit(x_train, y_train, validation_split=0.2, nb_epoch=5, batch_size=64, callbacks=callbacks)"
      ],
      "execution_count": 19,
      "outputs": [
        {
          "output_type": "stream",
          "text": [
            "model fitting - Hierachical attention network\n"
          ],
          "name": "stdout"
        },
        {
          "output_type": "stream",
          "text": [
            "/usr/local/lib/python3.6/dist-packages/ipykernel_launcher.py:2: UserWarning: The `nb_epoch` argument in `fit` has been renamed `epochs`.\n",
            "  \n"
          ],
          "name": "stderr"
        },
        {
          "output_type": "stream",
          "text": [
            "WARNING:tensorflow:From /usr/local/lib/python3.6/dist-packages/keras/backend/tensorflow_backend.py:422: The name tf.global_variables is deprecated. Please use tf.compat.v1.global_variables instead.\n",
            "\n"
          ],
          "name": "stdout"
        },
        {
          "output_type": "stream",
          "text": [
            "2020-05-14 13:51:17,934 : WARNING : From /usr/local/lib/python3.6/dist-packages/keras/backend/tensorflow_backend.py:422: The name tf.global_variables is deprecated. Please use tf.compat.v1.global_variables instead.\n",
            "\n"
          ],
          "name": "stderr"
        },
        {
          "output_type": "stream",
          "text": [
            "Train on 520000 samples, validate on 130000 samples\n",
            "Epoch 1/5\n",
            "520000/520000 [==============================] - 1414s 3ms/step - loss: 1.5256 - acc: 0.4768 - val_loss: 0.9247 - val_acc: 0.5974\n",
            "Epoch 2/5\n",
            "520000/520000 [==============================] - 1411s 3ms/step - loss: 1.0834 - acc: 0.5191 - val_loss: 0.8544 - val_acc: 0.6251\n",
            "Epoch 3/5\n",
            "520000/520000 [==============================] - 1411s 3ms/step - loss: 1.0618 - acc: 0.5306 - val_loss: 0.8771 - val_acc: 0.6158\n",
            "Epoch 4/5\n",
            "520000/520000 [==============================] - 1410s 3ms/step - loss: 1.0491 - acc: 0.5355 - val_loss: 0.8617 - val_acc: 0.6312\n",
            "Epoch 5/5\n",
            "520000/520000 [==============================] - 1411s 3ms/step - loss: 1.0371 - acc: 0.5410 - val_loss: 0.8732 - val_acc: 0.6118\n"
          ],
          "name": "stdout"
        }
      ]
    },
    {
      "cell_type": "code",
      "metadata": {
        "id": "yExxZbE3YxcS",
        "colab_type": "code",
        "colab": {}
      },
      "source": [
        "embedding_layer.trainable = True"
      ],
      "execution_count": 0,
      "outputs": []
    },
    {
      "cell_type": "code",
      "metadata": {
        "id": "ehn3roZNYxcW",
        "colab_type": "code",
        "colab": {}
      },
      "source": [
        "model.compile(loss='categorical_crossentropy', optimizer=adam, metrics=['acc'])"
      ],
      "execution_count": 0,
      "outputs": []
    },
    {
      "cell_type": "code",
      "metadata": {
        "id": "d0KuYxmPYxca",
        "colab_type": "code",
        "outputId": "33690ca2-8cc3-467d-fe12-7cc70bae1a8c",
        "colab": {
          "base_uri": "https://localhost:8080/",
          "height": 244
        }
      },
      "source": [
        "history = model.fit(x_train, y_train, validation_split=0.2, nb_epoch=5, batch_size=64, callbacks=callbacks)"
      ],
      "execution_count": 22,
      "outputs": [
        {
          "output_type": "stream",
          "text": [
            "/usr/local/lib/python3.6/dist-packages/ipykernel_launcher.py:1: UserWarning: The `nb_epoch` argument in `fit` has been renamed `epochs`.\n",
            "  \"\"\"Entry point for launching an IPython kernel.\n"
          ],
          "name": "stderr"
        },
        {
          "output_type": "stream",
          "text": [
            "Train on 520000 samples, validate on 130000 samples\n",
            "Epoch 1/5\n",
            "520000/520000 [==============================] - 2219s 4ms/step - loss: 0.9932 - acc: 0.5658 - val_loss: 0.8399 - val_acc: 0.6255\n",
            "Epoch 2/5\n",
            "520000/520000 [==============================] - 2220s 4ms/step - loss: 0.9405 - acc: 0.5915 - val_loss: 0.8024 - val_acc: 0.6535\n",
            "Epoch 3/5\n",
            "520000/520000 [==============================] - 2221s 4ms/step - loss: 0.9195 - acc: 0.6017 - val_loss: 0.8027 - val_acc: 0.6496\n",
            "Epoch 4/5\n",
            "520000/520000 [==============================] - 2222s 4ms/step - loss: 0.8999 - acc: 0.6121 - val_loss: 0.7880 - val_acc: 0.6632\n",
            "Epoch 5/5\n",
            "520000/520000 [==============================] - 2219s 4ms/step - loss: 0.8819 - acc: 0.6209 - val_loss: 0.7791 - val_acc: 0.6672\n"
          ],
          "name": "stdout"
        }
      ]
    },
    {
      "cell_type": "code",
      "metadata": {
        "colab_type": "code",
        "id": "VoH-bwtAhoy2",
        "outputId": "037d29f5-0a00-4815-d121-210e9be59fc6",
        "colab": {
          "base_uri": "https://localhost:8080/",
          "height": 121
        }
      },
      "source": [
        "%%time\n",
        "score = model.evaluate(x_test, y_test, batch_size=100)\n",
        "print()\n",
        "print(\"ACCURACY:\",score[1])\n",
        "print(\"LOSS:\",score[0])"
      ],
      "execution_count": 23,
      "outputs": [
        {
          "output_type": "stream",
          "text": [
            "50000/50000 [==============================] - 48s 965us/step\n",
            "\n",
            "ACCURACY: 0.6327199935913086\n",
            "LOSS: 0.8430754475593567\n",
            "CPU times: user 6.4 s, sys: 3.23 s, total: 9.63 s\n",
            "Wall time: 48.3 s\n"
          ],
          "name": "stdout"
        }
      ]
    },
    {
      "cell_type": "code",
      "metadata": {
        "colab_type": "code",
        "id": "x9poJkLZhpo0",
        "outputId": "ab227058-b779-4e61-b611-cf2bfdaeb66c",
        "colab": {
          "base_uri": "https://localhost:8080/",
          "height": 545
        }
      },
      "source": [
        "acc = history.history['acc']\n",
        "val_acc = history.history['val_acc']\n",
        "loss = history.history['loss']\n",
        "val_loss = history.history['val_loss']\n",
        " \n",
        "epochs = range(len(acc))\n",
        " \n",
        "plt.plot(epochs, acc, 'b', label='Training acc')\n",
        "plt.plot(epochs, val_acc, 'r', label='Validation acc')\n",
        "plt.title('Training and validation accuracy')\n",
        "plt.legend()\n",
        " \n",
        "plt.figure()\n",
        " \n",
        "plt.plot(epochs, loss, 'b', label='Training loss')\n",
        "plt.plot(epochs, val_loss, 'r', label='Validation loss')\n",
        "plt.title('Training and validation loss')\n",
        "plt.legend()\n",
        " \n",
        "plt.show()"
      ],
      "execution_count": 24,
      "outputs": [
        {
          "output_type": "display_data",
          "data": {
            "image/png": "[encoded data removed]",
            "text/plain": [
              "<Figure size 432x288 with 1 Axes>"
            ]
          },
          "metadata": {
            "tags": [],
            "needs_background": "light"
          }
        },
        {
          "output_type": "display_data",
          "data": {
            "image/png": "[encoded data removed]",
            "text/plain": [
              "<Figure size 432x288 with 1 Axes>"
            ]
          },
          "metadata": {
            "tags": [],
            "needs_background": "light"
          }
        }
      ]
    },
    {
      "cell_type": "code",
      "metadata": {
        "id": "JTozePokYxck",
        "colab_type": "code",
        "colab": {}
      },
      "source": [
        "model.save(\"cnn30_yelp_word2vec_1500.h5\")\n",
        "pickle.dump(tokenizer, open(\"tokenizer_cnn30_yelp_word2vec_1500.pkl\", \"wb\"), protocol=0)"
      ],
      "execution_count": 0,
      "outputs": []
    },
    {
      "cell_type": "code",
      "metadata": {
        "id": "szdQkDlSYxco",
        "colab_type": "code",
        "colab": {}
      },
      "source": [
        "tokenizer = None\n",
        "with open('tokenizer_cnn30_yelp_word2vec_1500.pkl', 'rb') as handle:\n",
        "    tokenizer = pickle.load(handle)"
      ],
      "execution_count": 0,
      "outputs": []
    },
    {
      "cell_type": "code",
      "metadata": {
        "id": "BMIytNtaYxct",
        "colab_type": "code",
        "outputId": "f8800bc6-a98d-4bbf-d95c-9b9d7a880ceb",
        "colab": {
          "base_uri": "https://localhost:8080/",
          "height": 34
        }
      },
      "source": [
        "text = [\"the restaurant we went yesterday was awful.\\nThe food was bad, the service was bad.\"]\n",
        "tokenizer.texts_to_sequences(text)"
      ],
      "execution_count": 27,
      "outputs": [
        {
          "output_type": "execute_result",
          "data": {
            "text/plain": [
              "[[1, 103, 16, 101, 1550, 6, 765, 1, 29, 6, 136, 1, 53, 6, 136]]"
            ]
          },
          "metadata": {
            "tags": []
          },
          "execution_count": 27
        }
      ]
    },
    {
      "cell_type": "code",
      "metadata": {
        "id": "t_wRb5eaYxcz",
        "colab_type": "code",
        "colab": {}
      },
      "source": [
        "def predict_new_text(text, model, tokenizer):\n",
        "    text = preprocess(text)\n",
        "    \n",
        "    data = pad_sequences(tokenizer.texts_to_sequences([text]), maxlen=MAX_SENT_LENGTH)\n",
        "    \n",
        "    ynew = model.predict(data)\n",
        "    return ynew"
      ],
      "execution_count": 0,
      "outputs": []
    },
    {
      "cell_type": "code",
      "metadata": {
        "id": "5asW_2_BYxc3",
        "colab_type": "code",
        "outputId": "80e81a47-dec1-4aca-dd1c-16ae35bf83af",
        "colab": {
          "base_uri": "https://localhost:8080/",
          "height": 34
        }
      },
      "source": [
        "text = \"the restaurant we went yesterday was wonderful.\"\n",
        "print(predict_new_text(text, model, tokenizer))"
      ],
      "execution_count": 29,
      "outputs": [
        {
          "output_type": "stream",
          "text": [
            "[[0.06784492 0.1061642  0.17979112 0.30105597 0.3451438 ]]\n"
          ],
          "name": "stdout"
        }
      ]
    },
    {
      "cell_type": "code",
      "metadata": {
        "id": "dazBJNKUYxc6",
        "colab_type": "code",
        "outputId": "09b47ce5-be6b-40ab-cc67-3def2cace8d4",
        "colab": {
          "base_uri": "https://localhost:8080/",
          "height": 52
        }
      },
      "source": [
        "text = \"the restaurant we went yesterday was awful.\\nThe food was bad, the service was bad.\"\n",
        "print(predict_new_text(text, model, tokenizer))\n",
        "labels = [1, 2, 3, 4, 5]\n",
        "print(labels[np.argmax(predict_new_text(text,model, tokenizer))])"
      ],
      "execution_count": 30,
      "outputs": [
        {
          "output_type": "stream",
          "text": [
            "[[0.59355146 0.33343786 0.05464755 0.01154798 0.00681523]]\n",
            "1\n"
          ],
          "name": "stdout"
        }
      ]
    },
    {
      "cell_type": "code",
      "metadata": {
        "id": "hqXprB62Yxc-",
        "colab_type": "code",
        "outputId": "a4cecfb8-7e45-4c60-ae4c-15ee92983c11",
        "colab": {
          "base_uri": "https://localhost:8080/",
          "height": 52
        }
      },
      "source": [
        "text = \"The characters in this novel were great. I immediately started rooting for them to succeed. With a shorter Nov the development of the characters were good. It would have been nice to get more background on them but again, short novel means minimal background.\"\n",
        "print(predict_new_text(text, model, tokenizer))\n",
        "labels = [1, 2, 3, 4, 5]\n",
        "print(labels[np.argmax(predict_new_text(text,model, tokenizer))])"
      ],
      "execution_count": 31,
      "outputs": [
        {
          "output_type": "stream",
          "text": [
            "[[0.03744175 0.11090928 0.32087195 0.3468701  0.18390687]]\n",
            "4\n"
          ],
          "name": "stdout"
        }
      ]
    },
    {
      "cell_type": "code",
      "metadata": {
        "id": "Nw7OdkYTYxdD",
        "colab_type": "code",
        "outputId": "ef0b3ffb-1606-4187-9451-5d67a3fd88f9",
        "colab": {
          "base_uri": "https://localhost:8080/",
          "height": 52
        }
      },
      "source": [
        "text = \"Good concept but I couldn't get swept away in the story. I didn't care for the characters. Events felt disjointed. I'm not sure if it was the story or the writing style, this one just wasn't for me.\"\n",
        "print(predict_new_text(text, model, tokenizer))\n",
        "labels = [1, 2, 3, 4, 5]\n",
        "print(labels[np.argmax(predict_new_text(text,model, tokenizer))])"
      ],
      "execution_count": 32,
      "outputs": [
        {
          "output_type": "stream",
          "text": [
            "[[0.0504646  0.44834352 0.47181323 0.02797745 0.00140131]]\n",
            "3\n"
          ],
          "name": "stdout"
        }
      ]
    },
    {
      "cell_type": "code",
      "metadata": {
        "id": "qbWk1uzZYxdH",
        "colab_type": "code",
        "outputId": "390e5b1c-51b7-4abe-e662-9f1f5176cfd1",
        "colab": {
          "base_uri": "https://localhost:8080/",
          "height": 52
        }
      },
      "source": [
        "text = \"So far... the worst book I ever read. Started out alright, but everything went downhill the moment the MC discovered his 'superpowers' and became perhaps the biggest Gary Sue (Male counterpart to the Mary Sue) in all of published fiction.\"\n",
        "print(predict_new_text(text, model, tokenizer))\n",
        "labels = [1, 2, 3, 4, 5]\n",
        "print(labels[np.argmax(predict_new_text(text,model, tokenizer))])"
      ],
      "execution_count": 33,
      "outputs": [
        {
          "output_type": "stream",
          "text": [
            "[[0.2824304  0.61696196 0.09316372 0.00653012 0.00091374]]\n",
            "2\n"
          ],
          "name": "stdout"
        }
      ]
    },
    {
      "cell_type": "code",
      "metadata": {
        "id": "3qrCzqCiYxdK",
        "colab_type": "code",
        "outputId": "d7ef430b-7599-4443-e726-7e0f2f6327cc",
        "colab": {
          "base_uri": "https://localhost:8080/",
          "height": 52
        }
      },
      "source": [
        "text = \"The book is straight up awful and you can't change mind\"\n",
        "print(predict_new_text(text, model, tokenizer))\n",
        "labels = [1, 2, 3, 4, 5]\n",
        "print(labels[np.argmax(predict_new_text(text,model, tokenizer))])"
      ],
      "execution_count": 34,
      "outputs": [
        {
          "output_type": "stream",
          "text": [
            "[[0.4797028  0.32226682 0.10866286 0.05044172 0.03892587]]\n",
            "1\n"
          ],
          "name": "stdout"
        }
      ]
    },
    {
      "cell_type": "code",
      "metadata": {
        "id": "eWBDwbEIYxdQ",
        "colab_type": "code",
        "outputId": "3f7f69a7-8c3b-4f38-ec66-3ce97018839f",
        "colab": {
          "base_uri": "https://localhost:8080/",
          "height": 516
        }
      },
      "source": [
        "target_cnt = Counter(df_train.target)\n",
        "\n",
        "plt.figure(figsize=(16,8))\n",
        "plt.bar(target_cnt.keys(), target_cnt.values())\n",
        "plt.title(\"Dataset labels distribuition\")"
      ],
      "execution_count": 35,
      "outputs": [
        {
          "output_type": "execute_result",
          "data": {
            "text/plain": [
              "Text(0.5, 1.0, 'Dataset labels distribuition')"
            ]
          },
          "metadata": {
            "tags": []
          },
          "execution_count": 35
        },
        {
          "output_type": "display_data",
          "data": {
            "image/png": "[encoded data removed]",
            "text/plain": [
              "<Figure size 1152x576 with 1 Axes>"
            ]
          },
          "metadata": {
            "tags": [],
            "needs_background": "light"
          }
        }
      ]
    },
    {
      "cell_type": "code",
      "metadata": {
        "id": "dClS5GwfYxdT",
        "colab_type": "code",
        "colab": {}
      },
      "source": [
        "from sklearn.metrics import confusion_matrix\n",
        "\n",
        "y_pred = model.predict(x_test)"
      ],
      "execution_count": 0,
      "outputs": []
    },
    {
      "cell_type": "code",
      "metadata": {
        "id": "4ET1hwOWYxdX",
        "colab_type": "code",
        "colab": {}
      },
      "source": [
        "def plot_confusion_matrix(cm, classes,\n",
        "                          normalize=False,\n",
        "                          title='Confusion matrix',\n",
        "                          cmap=plt.cm.Blues):\n",
        "    \"\"\"\n",
        "    This function prints and plots the confusion matrix.\n",
        "    Normalization can be applied by setting `normalize=True`.\n",
        "    \"\"\"\n",
        "    if normalize:\n",
        "        cm = cm.astype('float') / cm.sum(axis=1)[:, np.newaxis]\n",
        "        print(\"Normalized confusion matrix\")\n",
        "    else:\n",
        "        print('Confusion matrix, without normalization')\n",
        "\n",
        "    # print(cm)\n",
        "\n",
        "    plt.imshow(cm, interpolation='nearest', cmap=cmap)\n",
        "    plt.title(title)\n",
        "    plt.colorbar()\n",
        "    tick_marks = np.arange(len(classes))\n",
        "    plt.xticks(tick_marks, classes, rotation=90)\n",
        "    plt.yticks(tick_marks, classes)\n",
        "\n",
        "    fmt = '.2f' if normalize else 'd'\n",
        "    thresh = cm.max() / 2.\n",
        "    for i, j in itertools.product(range(cm.shape[0]), range(cm.shape[1])):\n",
        "        plt.text(j, i, format(cm[i, j], fmt),\n",
        "                 horizontalalignment=\"center\",\n",
        "                 color=\"white\" if cm[i, j] > thresh else \"black\")\n",
        "\n",
        "    plt.tight_layout()\n",
        "    plt.ylabel('True label')\n",
        "    plt.xlabel('Predicted label')"
      ],
      "execution_count": 0,
      "outputs": []
    },
    {
      "cell_type": "code",
      "metadata": {
        "id": "yeBdMLBkYxda",
        "colab_type": "code",
        "outputId": "926e7b5f-8d03-4bd8-942f-b676940a9183",
        "colab": {
          "base_uri": "https://localhost:8080/",
          "height": 34
        }
      },
      "source": [
        "label_names = ['0', '1', '2', '3', '4']\n",
        "np.asarray(label_names)"
      ],
      "execution_count": 38,
      "outputs": [
        {
          "output_type": "execute_result",
          "data": {
            "text/plain": [
              "array(['0', '1', '2', '3', '4'], dtype='<U1')"
            ]
          },
          "metadata": {
            "tags": []
          },
          "execution_count": 38
        }
      ]
    },
    {
      "cell_type": "code",
      "metadata": {
        "id": "7mIYWJMSYxde",
        "colab_type": "code",
        "outputId": "b942df58-56bf-4c4a-e6b4-3118fe123868",
        "colab": {
          "base_uri": "https://localhost:8080/",
          "height": 329
        }
      },
      "source": [
        "conf_matrix = confusion_matrix(y_test.argmax(axis=1), y_pred.argmax(axis=1))\n",
        "label_names = ['0', '1', '2', '3', '4']\n",
        "plot_confusion_matrix(conf_matrix, classes=np.asarray(label_names), normalize=True,\n",
        "                      title='Normalized confusion matrix')"
      ],
      "execution_count": 39,
      "outputs": [
        {
          "output_type": "stream",
          "text": [
            "Normalized confusion matrix\n"
          ],
          "name": "stdout"
        },
        {
          "output_type": "display_data",
          "data": {
            "image/png": "[encoded data removed]",
            "text/plain": [
              "<Figure size 432x288 with 2 Axes>"
            ]
          },
          "metadata": {
            "tags": [],
            "needs_background": "light"
          }
        }
      ]
    },
    {
      "cell_type": "code",
      "metadata": {
        "id": "mC17G2SsYxdh",
        "colab_type": "code",
        "outputId": "ed739fa8-60c4-43b9-d440-2c3bb799bc00",
        "colab": {
          "base_uri": "https://localhost:8080/",
          "height": 226
        }
      },
      "source": [
        "from sklearn.metrics import classification_report\n",
        "label_names = ['0', '1', '2', '3', '4']\n",
        "print(classification_report(y_test.argmax(axis=1), y_pred.argmax(axis=1), target_names=label_names))"
      ],
      "execution_count": 40,
      "outputs": [
        {
          "output_type": "stream",
          "text": [
            "              precision    recall  f1-score   support\n",
            "\n",
            "           0       0.76      0.76      0.76     10000\n",
            "           1       0.60      0.54      0.57     10000\n",
            "           2       0.57      0.62      0.59     10000\n",
            "           3       0.58      0.41      0.48     10000\n",
            "           4       0.65      0.83      0.73     10000\n",
            "\n",
            "    accuracy                           0.63     50000\n",
            "   macro avg       0.63      0.63      0.63     50000\n",
            "weighted avg       0.63      0.63      0.63     50000\n",
            "\n"
          ],
          "name": "stdout"
        }
      ]
    },
    {
      "cell_type": "code",
      "metadata": {
        "id": "6bmbtkT1ykR-",
        "colab_type": "code",
        "colab": {}
      },
      "source": [
        ""
      ],
      "execution_count": 0,
      "outputs": []
    }
  ]
}