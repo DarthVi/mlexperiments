{
  "nbformat": 4,
  "nbformat_minor": 0,
  "metadata": {
    "accelerator": "GPU",
    "colab": {
      "name": "CNN_yelp_word2vec.ipynb",
      "provenance": []
    },
    "kernelspec": {
      "display_name": "Python 3",
      "language": "python",
      "name": "python3"
    },
    "language_info": {
      "codemirror_mode": {
        "name": "ipython",
        "version": 3
      },
      "file_extension": ".py",
      "mimetype": "text/x-python",
      "name": "python",
      "nbconvert_exporter": "python",
      "pygments_lexer": "ipython3",
      "version": "3.7.7"
    }
  },
  "cells": [
    {
      "cell_type": "code",
      "metadata": {
        "colab_type": "code",
        "id": "_MlnnNQuCY1A",
        "outputId": "526c209f-b07e-442a-b487-2c9b0371ef76",
        "colab": {
          "base_uri": "https://localhost:8080/",
          "height": 52
        }
      },
      "source": [
        "%tensorflow_version 1.x\n",
        "\n",
        "# DataFrame\n",
        "import pandas as pd\n",
        "\n",
        "# Matplot\n",
        "import matplotlib.pyplot as plt\n",
        "%matplotlib inline\n",
        "\n",
        "# Scikit-learn\n",
        "from sklearn.model_selection import train_test_split\n",
        "from sklearn.preprocessing import LabelEncoder\n",
        "from sklearn.metrics import confusion_matrix, classification_report, accuracy_score\n",
        "from sklearn.manifold import TSNE\n",
        "from sklearn.feature_extraction.text import TfidfVectorizer\n",
        "\n",
        "# Keras\n",
        "from keras.preprocessing.text import Tokenizer\n",
        "from keras.preprocessing.sequence import pad_sequences\n",
        "from keras.models import Sequential, Model\n",
        "from keras.layers import Input, Activation, Dense, Dropout, Embedding, Flatten, Conv1D, MaxPooling1D, LSTM, concatenate\n",
        "from keras.layers import GaussianDropout, GaussianNoise, RepeatVector, Permute\n",
        "from keras.layers import GRU, Bidirectional, TimeDistributed, Multiply, Lambda, GlobalMaxPooling1D\n",
        "from keras import utils\n",
        "from keras.callbacks import ReduceLROnPlateau, EarlyStopping\n",
        "\n",
        "# nltk\n",
        "import nltk\n",
        "from nltk.corpus import stopwords\n",
        "from  nltk.stem import SnowballStemmer\n",
        "\n",
        "# Word2vec\n",
        "import gensim\n",
        "\n",
        "# Utility\n",
        "import os\n",
        "import re\n",
        "import numpy as np\n",
        "from collections import Counter\n",
        "import logging\n",
        "import time\n",
        "import pickle\n",
        "import itertools\n",
        "\n",
        "# Set log\n",
        "logging.basicConfig(format='%(asctime)s : %(levelname)s : %(message)s', level=logging.INFO)"
      ],
      "execution_count": 1,
      "outputs": [
        {
          "output_type": "stream",
          "text": [
            "TensorFlow 1.x selected.\n"
          ],
          "name": "stdout"
        },
        {
          "output_type": "stream",
          "text": [
            "Using TensorFlow backend.\n"
          ],
          "name": "stderr"
        }
      ]
    },
    {
      "cell_type": "code",
      "metadata": {
        "id": "H5vFNpvBZyPs",
        "colab_type": "code",
        "colab": {
          "base_uri": "https://localhost:8080/",
          "height": 124
        },
        "outputId": "33b2f9cb-b188-4781-b9e7-f2fac7abe2c1"
      },
      "source": [
        "from google.colab import drive\n",
        "drive.mount('/content/drive')"
      ],
      "execution_count": 2,
      "outputs": [
        {
          "output_type": "stream",
          "text": [
            "Go to this URL in a browser: https://accounts.google.com/o/oauth2/auth?client_id=947318989803-6bn6qk8qdgf4n4g3pfee6491hc0brc4i.apps.googleusercontent.com&redirect_uri=urn%3aietf%3awg%3aoauth%3a2.0%3aoob&response_type=code&scope=email%20https%3a%2f%2fwww.googleapis.com%2fauth%2fdocs.test%20https%3a%2f%2fwww.googleapis.com%2fauth%2fdrive%20https%3a%2f%2fwww.googleapis.com%2fauth%2fdrive.photos.readonly%20https%3a%2f%2fwww.googleapis.com%2fauth%2fpeopleapi.readonly\n",
            "\n",
            "Enter your authorization code:\n",
            "··········\n",
            "Mounted at /content/drive\n"
          ],
          "name": "stdout"
        }
      ]
    },
    {
      "cell_type": "code",
      "metadata": {
        "colab_type": "code",
        "id": "zRYb9ExIgGZM",
        "colab": {}
      },
      "source": [
        "# DATASET\n",
        "DATASET_COLUMNS = [\"target\", \"text\"]\n",
        "DATASET_ENCODING = \"ISO-8859-1\"\n",
        "TRAIN_SIZE = 0.8\n",
        "\n",
        "# TEXT CLENAING\n",
        "TEXT_CLEANING_RE = \"@\\S+|https?:\\S+|http?:\\S\"\n",
        "\n",
        "# WORD2VEC\n",
        "W2V_WINDOW = 7\n",
        "W2V_EPOCH = 32\n",
        "W2V_MIN_COUNT = 6\n",
        "W2V_SIZE = 200\n",
        "\n",
        "SEQUENCE_LENGTH = 200\n",
        "\n",
        "MAXLEN = 100\n",
        "MAX_SENT_LENGTH = 500\n",
        "MAX_WORDS = 20000\n",
        "EMBEDDING_DIM = 200\n",
        "VALIDATION_SPLIT = 0.2\n",
        "\n",
        "# EXPORT\n",
        "KERAS_MODEL = \"model.h5\"\n",
        "WORD2VEC_MODEL = \"model.w2v\"\n",
        "TOKENIZER_MODEL = \"tokenizer.pkl\"\n",
        "ENCODER_MODEL = \"encoder.pkl\""
      ],
      "execution_count": 0,
      "outputs": []
    },
    {
      "cell_type": "code",
      "metadata": {
        "colab_type": "code",
        "id": "xWtQiS78haMB",
        "colab": {}
      },
      "source": [
        "df_train = pd.read_csv(\"/content/drive/My Drive/Colab Notebooks/yelp2015/train.csv\", encoding=DATASET_ENCODING , names=DATASET_COLUMNS)\n",
        "df_test = pd.read_csv(\"/content/drive/My Drive/Colab Notebooks/yelp2015/test.csv\", encoding=DATASET_ENCODING , names=DATASET_COLUMNS)"
      ],
      "execution_count": 0,
      "outputs": []
    },
    {
      "cell_type": "code",
      "metadata": {
        "colab_type": "code",
        "id": "3U1IuY9ZhmI5",
        "colab": {}
      },
      "source": [
        "def preprocess(text):\n",
        "    # Remove link,user and special characters\n",
        "    text = re.sub(TEXT_CLEANING_RE, ' ', str(text).lower()).strip()\n",
        "    tokens = []\n",
        "    for token in text.split():\n",
        "      tokens.append(token)\n",
        "    return \" \".join(tokens)"
      ],
      "execution_count": 0,
      "outputs": []
    },
    {
      "cell_type": "code",
      "metadata": {
        "colab_type": "code",
        "id": "iotRlbmoiWJ0",
        "outputId": "0f468cb2-0f82-43be-fe0c-525dc4c6f3ed",
        "colab": {
          "base_uri": "https://localhost:8080/",
          "height": 52
        }
      },
      "source": [
        "%%time\n",
        "df_train.text = df_train.text.apply(lambda x: preprocess(x))\n",
        "df_test.text = df_test.text.apply(lambda x: preprocess(x))"
      ],
      "execution_count": 6,
      "outputs": [
        {
          "output_type": "stream",
          "text": [
            "CPU times: user 17.7 s, sys: 294 ms, total: 18 s\n",
            "Wall time: 18.1 s\n"
          ],
          "name": "stdout"
        }
      ]
    },
    {
      "cell_type": "code",
      "metadata": {
        "colab_type": "code",
        "id": "bmPV31o3iaD1",
        "colab": {}
      },
      "source": [
        "decode_map = {1: 0, 2: 1, 3: 2, 4: 3, 5: 4}\n",
        "def decode_sentiment(label):\n",
        "    return decode_map[int(label)]"
      ],
      "execution_count": 0,
      "outputs": []
    },
    {
      "cell_type": "code",
      "metadata": {
        "colab_type": "code",
        "id": "bCsD71TZityS",
        "outputId": "e7128991-4d4d-4dfc-bc21-7da977634f4a",
        "colab": {
          "base_uri": "https://localhost:8080/",
          "height": 52
        }
      },
      "source": [
        "%%time\n",
        "df_train.target = df_train.target.apply(lambda x: decode_sentiment(x))\n",
        "df_test.target = df_test.target.apply(lambda x: decode_sentiment(x))"
      ],
      "execution_count": 8,
      "outputs": [
        {
          "output_type": "stream",
          "text": [
            "CPU times: user 306 ms, sys: 1.08 ms, total: 307 ms\n",
            "Wall time: 308 ms\n"
          ],
          "name": "stdout"
        }
      ]
    },
    {
      "cell_type": "code",
      "metadata": {
        "colab_type": "code",
        "id": "IXYv-HqmixB-",
        "outputId": "9c8f4dfe-c298-4291-d43c-c2afeb7d7ab5",
        "colab": {
          "base_uri": "https://localhost:8080/",
          "height": 69
        }
      },
      "source": [
        "nltk.download('punkt')"
      ],
      "execution_count": 9,
      "outputs": [
        {
          "output_type": "stream",
          "text": [
            "[nltk_data] Downloading package punkt to /root/nltk_data...\n",
            "[nltk_data]   Unzipping tokenizers/punkt.zip.\n"
          ],
          "name": "stdout"
        },
        {
          "output_type": "execute_result",
          "data": {
            "text/plain": [
              "True"
            ]
          },
          "metadata": {
            "tags": []
          },
          "execution_count": 9
        }
      ]
    },
    {
      "cell_type": "code",
      "metadata": {
        "colab_type": "code",
        "id": "E7RWHPuLcJ8d",
        "colab": {
          "base_uri": "https://localhost:8080/",
          "height": 229
        },
        "outputId": "c2420fa8-08e3-4fab-b065-053242bfead6"
      },
      "source": [
        "from gensim.models import Word2Vec\n",
        "\n",
        "w2v_model = Word2Vec.load(\"/content/drive/My Drive/Colab Notebooks/w2v2_modregex_200.w2v\")"
      ],
      "execution_count": 10,
      "outputs": [
        {
          "output_type": "stream",
          "text": [
            "2020-05-10 11:47:00,517 : INFO : loading Word2Vec object from /content/drive/My Drive/Colab Notebooks/w2v2_modregex_200.w2v\n",
            "/usr/local/lib/python3.6/dist-packages/smart_open/smart_open_lib.py:253: UserWarning: This function is deprecated, use smart_open.open instead. See the migration notes for details: https://github.com/RaRe-Technologies/smart_open/blob/master/README.rst#migrating-to-the-new-open-function\n",
            "  'See the migration notes for details: %s' % _MIGRATION_NOTES_URL\n",
            "2020-05-10 11:47:01,586 : INFO : loading wv recursively from /content/drive/My Drive/Colab Notebooks/w2v2_modregex_200.w2v.wv.* with mmap=None\n",
            "2020-05-10 11:47:01,587 : INFO : loading vectors from /content/drive/My Drive/Colab Notebooks/w2v2_modregex_200.w2v.wv.vectors.npy with mmap=None\n",
            "2020-05-10 11:47:07,967 : INFO : setting ignored attribute vectors_norm to None\n",
            "2020-05-10 11:47:07,969 : INFO : loading vocabulary recursively from /content/drive/My Drive/Colab Notebooks/w2v2_modregex_200.w2v.vocabulary.* with mmap=None\n",
            "2020-05-10 11:47:07,969 : INFO : loading trainables recursively from /content/drive/My Drive/Colab Notebooks/w2v2_modregex_200.w2v.trainables.* with mmap=None\n",
            "2020-05-10 11:47:07,974 : INFO : loading syn1neg from /content/drive/My Drive/Colab Notebooks/w2v2_modregex_200.w2v.trainables.syn1neg.npy with mmap=None\n",
            "2020-05-10 11:47:13,233 : INFO : setting ignored attribute cum_table to None\n",
            "2020-05-10 11:47:13,234 : INFO : loaded /content/drive/My Drive/Colab Notebooks/w2v2_modregex_200.w2v\n"
          ],
          "name": "stderr"
        }
      ]
    },
    {
      "cell_type": "code",
      "metadata": {
        "colab_type": "code",
        "id": "s_KSNQbVcU5P",
        "outputId": "c377bc52-4aab-423d-f26b-e90b98af6a2a",
        "colab": {
          "base_uri": "https://localhost:8080/",
          "height": 34
        }
      },
      "source": [
        "words = w2v_model.wv.vocab.keys()\n",
        "vocab_size = len(words)\n",
        "print(\"Vocab size\", vocab_size)"
      ],
      "execution_count": 11,
      "outputs": [
        {
          "output_type": "stream",
          "text": [
            "Vocab size 152070\n"
          ],
          "name": "stdout"
        }
      ]
    },
    {
      "cell_type": "code",
      "metadata": {
        "colab_type": "code",
        "id": "7_wQ0yFkdD-Z",
        "colab": {
          "base_uri": "https://localhost:8080/",
          "height": 69
        },
        "outputId": "bbb68194-8e97-4c1b-858b-2fb75cf84221"
      },
      "source": [
        "%%time\n",
        "tokenizer = Tokenizer()\n",
        "tokenizer.fit_on_texts(df_train.text)\n",
        "\n",
        "vocab_size = len(tokenizer.word_index) + 1\n",
        "print(\"Total words\", vocab_size)"
      ],
      "execution_count": 12,
      "outputs": [
        {
          "output_type": "stream",
          "text": [
            "Total words 264006\n",
            "CPU times: user 53 s, sys: 41.1 ms, total: 53.1 s\n",
            "Wall time: 53.1 s\n"
          ],
          "name": "stdout"
        }
      ]
    },
    {
      "cell_type": "code",
      "metadata": {
        "colab_type": "code",
        "id": "-6mhBj_8dGcq",
        "colab": {
          "base_uri": "https://localhost:8080/",
          "height": 52
        },
        "outputId": "f9fb8406-853a-4ba2-c95b-1e4bacdbaf5e"
      },
      "source": [
        "%%time\n",
        "x_train = pad_sequences(tokenizer.texts_to_sequences(df_train.text), maxlen=MAX_SENT_LENGTH)\n",
        "x_test = pad_sequences(tokenizer.texts_to_sequences(df_test.text), maxlen=MAX_SENT_LENGTH)"
      ],
      "execution_count": 13,
      "outputs": [
        {
          "output_type": "stream",
          "text": [
            "CPU times: user 52.3 s, sys: 650 ms, total: 53 s\n",
            "Wall time: 53 s\n"
          ],
          "name": "stdout"
        }
      ]
    },
    {
      "cell_type": "code",
      "metadata": {
        "colab_type": "code",
        "id": "McHakWHEeaK3",
        "colab": {
          "base_uri": "https://localhost:8080/",
          "height": 52
        },
        "outputId": "17222726-a360-47f6-b793-163a8c1b8b9c"
      },
      "source": [
        "from keras.utils.np_utils import to_categorical\n",
        "\n",
        "y_train = to_categorical(np.asarray(df_train.target))\n",
        "y_test = to_categorical(np.asarray(df_test.target))\n",
        "\n",
        "\n",
        "print(\"y_train\",y_train.shape)\n",
        "print(\"y_test\",y_test.shape)"
      ],
      "execution_count": 14,
      "outputs": [
        {
          "output_type": "stream",
          "text": [
            "y_train (650000, 5)\n",
            "y_test (50000, 5)\n"
          ],
          "name": "stdout"
        }
      ]
    },
    {
      "cell_type": "code",
      "metadata": {
        "colab_type": "code",
        "id": "LltnqjFLefze",
        "colab": {}
      },
      "source": [
        "word_index = tokenizer.word_index\n",
        "\n",
        "# building Hierachical Attention network\n",
        "embedding_matrix = np.random.random((len(word_index) + 1, EMBEDDING_DIM))\n",
        "for word, i in tokenizer.word_index.items():\n",
        "  if word in w2v_model.wv:\n",
        "    embedding_matrix[i] = w2v_model.wv[word]\n",
        "\n",
        "embedding_layer = Embedding(len(word_index) + 1, EMBEDDING_DIM, weights=[embedding_matrix],\n",
        "                            input_length=MAX_SENT_LENGTH, trainable=False, name='Embedding')"
      ],
      "execution_count": 0,
      "outputs": []
    },
    {
      "cell_type": "code",
      "metadata": {
        "colab_type": "code",
        "id": "GbeklepggNse",
        "colab": {
          "base_uri": "https://localhost:8080/",
          "height": 141
        },
        "outputId": "729849e1-0d01-4e9f-aa75-5110b1fe873e"
      },
      "source": [
        "input_layer = Input(shape=(MAX_SENT_LENGTH,), name = 'Input')\n",
        "embedded_layer = embedding_layer(input_layer)\n",
        "\n",
        "conv1 = Conv1D(200, 3, activation='relu')(embedded_layer)\n",
        "conv2 = Conv1D(200, 4, activation='relu')(embedded_layer)\n",
        "conv3 = Conv1D(200, 5, activation='relu')(embedded_layer)\n",
        "\n",
        "pool1 = GlobalMaxPooling1D()(conv1)\n",
        "pool2 = GlobalMaxPooling1D()(conv2)\n",
        "pool3 = GlobalMaxPooling1D()(conv3)\n",
        "\n",
        "conc_layer = concatenate([pool3, pool2, pool1])\n",
        "drop1 = Dropout(0.5)(conc_layer)\n",
        "fc_layer1 = Dense(units=30, name='FullyConnected1')(drop1)\n",
        "drop2 = Dropout(0.5)(fc_layer1)\n",
        "preds = Dense(5, activation='softmax')(drop2)\n",
        "model = Model(input_layer, preds)"
      ],
      "execution_count": 16,
      "outputs": [
        {
          "output_type": "stream",
          "text": [
            "WARNING:tensorflow:From /tensorflow-1.15.2/python3.6/tensorflow_core/python/ops/resource_variable_ops.py:1630: calling BaseResourceVariable.__init__ (from tensorflow.python.ops.resource_variable_ops) with constraint is deprecated and will be removed in a future version.\n",
            "Instructions for updating:\n",
            "If using Keras pass *_constraint arguments to layers.\n"
          ],
          "name": "stdout"
        },
        {
          "output_type": "stream",
          "text": [
            "2020-05-10 11:49:00,439 : WARNING : From /tensorflow-1.15.2/python3.6/tensorflow_core/python/ops/resource_variable_ops.py:1630: calling BaseResourceVariable.__init__ (from tensorflow.python.ops.resource_variable_ops) with constraint is deprecated and will be removed in a future version.\n",
            "Instructions for updating:\n",
            "If using Keras pass *_constraint arguments to layers.\n"
          ],
          "name": "stderr"
        }
      ]
    },
    {
      "cell_type": "code",
      "metadata": {
        "colab_type": "code",
        "id": "1T3UjR5qgjjS",
        "colab": {
          "base_uri": "https://localhost:8080/",
          "height": 645
        },
        "outputId": "c5a65b61-5688-4be5-86ef-37cb82475edc"
      },
      "source": [
        "from keras import optimizers\n",
        "adam = optimizers.Adam(learning_rate=0.001)\n",
        "model.compile(loss='categorical_crossentropy', optimizer=adam, metrics=['acc'])\n",
        "model.summary()"
      ],
      "execution_count": 17,
      "outputs": [
        {
          "output_type": "stream",
          "text": [
            "Model: \"model_1\"\n",
            "__________________________________________________________________________________________________\n",
            "Layer (type)                    Output Shape         Param #     Connected to                     \n",
            "==================================================================================================\n",
            "Input (InputLayer)              (None, 500)          0                                            \n",
            "__________________________________________________________________________________________________\n",
            "Embedding (Embedding)           (None, 500, 200)     52801200    Input[0][0]                      \n",
            "__________________________________________________________________________________________________\n",
            "conv1d_3 (Conv1D)               (None, 496, 200)     200200      Embedding[0][0]                  \n",
            "__________________________________________________________________________________________________\n",
            "conv1d_2 (Conv1D)               (None, 497, 200)     160200      Embedding[0][0]                  \n",
            "__________________________________________________________________________________________________\n",
            "conv1d_1 (Conv1D)               (None, 498, 200)     120200      Embedding[0][0]                  \n",
            "__________________________________________________________________________________________________\n",
            "global_max_pooling1d_3 (GlobalM (None, 200)          0           conv1d_3[0][0]                   \n",
            "__________________________________________________________________________________________________\n",
            "global_max_pooling1d_2 (GlobalM (None, 200)          0           conv1d_2[0][0]                   \n",
            "__________________________________________________________________________________________________\n",
            "global_max_pooling1d_1 (GlobalM (None, 200)          0           conv1d_1[0][0]                   \n",
            "__________________________________________________________________________________________________\n",
            "concatenate_1 (Concatenate)     (None, 600)          0           global_max_pooling1d_3[0][0]     \n",
            "                                                                 global_max_pooling1d_2[0][0]     \n",
            "                                                                 global_max_pooling1d_1[0][0]     \n",
            "__________________________________________________________________________________________________\n",
            "dropout_1 (Dropout)             (None, 600)          0           concatenate_1[0][0]              \n",
            "__________________________________________________________________________________________________\n",
            "FullyConnected1 (Dense)         (None, 30)           18030       dropout_1[0][0]                  \n",
            "__________________________________________________________________________________________________\n",
            "dropout_2 (Dropout)             (None, 30)           0           FullyConnected1[0][0]            \n",
            "__________________________________________________________________________________________________\n",
            "dense_1 (Dense)                 (None, 5)            155         dropout_2[0][0]                  \n",
            "==================================================================================================\n",
            "Total params: 53,299,985\n",
            "Trainable params: 498,785\n",
            "Non-trainable params: 52,801,200\n",
            "__________________________________________________________________________________________________\n"
          ],
          "name": "stdout"
        }
      ]
    },
    {
      "cell_type": "code",
      "metadata": {
        "colab_type": "code",
        "id": "_8GkVEpnhbbj",
        "colab": {}
      },
      "source": [
        "callbacks = [EarlyStopping(monitor='val_acc', patience=5, mode='max')]"
      ],
      "execution_count": 0,
      "outputs": []
    },
    {
      "cell_type": "code",
      "metadata": {
        "colab_type": "code",
        "id": "BWhUwY-5hH6D",
        "colab": {
          "base_uri": "https://localhost:8080/",
          "height": 351
        },
        "outputId": "3be02095-0e25-460f-f40a-43782b29ecc1"
      },
      "source": [
        "print(\"model fitting - Hierachical attention network\")\n",
        "history = model.fit(x_train, y_train, validation_split=0.2, nb_epoch=5, batch_size=64, callbacks=callbacks)"
      ],
      "execution_count": 19,
      "outputs": [
        {
          "output_type": "stream",
          "text": [
            "model fitting - Hierachical attention network\n"
          ],
          "name": "stdout"
        },
        {
          "output_type": "stream",
          "text": [
            "/usr/local/lib/python3.6/dist-packages/ipykernel_launcher.py:2: UserWarning: The `nb_epoch` argument in `fit` has been renamed `epochs`.\n",
            "  \n"
          ],
          "name": "stderr"
        },
        {
          "output_type": "stream",
          "text": [
            "WARNING:tensorflow:From /usr/local/lib/python3.6/dist-packages/keras/backend/tensorflow_backend.py:422: The name tf.global_variables is deprecated. Please use tf.compat.v1.global_variables instead.\n",
            "\n"
          ],
          "name": "stdout"
        },
        {
          "output_type": "stream",
          "text": [
            "2020-05-10 11:49:09,278 : WARNING : From /usr/local/lib/python3.6/dist-packages/keras/backend/tensorflow_backend.py:422: The name tf.global_variables is deprecated. Please use tf.compat.v1.global_variables instead.\n",
            "\n"
          ],
          "name": "stderr"
        },
        {
          "output_type": "stream",
          "text": [
            "Train on 520000 samples, validate on 130000 samples\n",
            "Epoch 1/5\n",
            "520000/520000 [==============================] - 339s 651us/step - loss: 1.5134 - acc: 0.4771 - val_loss: 0.8814 - val_acc: 0.6179\n",
            "Epoch 2/5\n",
            "520000/520000 [==============================] - 332s 638us/step - loss: 1.0839 - acc: 0.5183 - val_loss: 0.9180 - val_acc: 0.5799\n",
            "Epoch 3/5\n",
            "520000/520000 [==============================] - 331s 636us/step - loss: 1.0632 - acc: 0.5301 - val_loss: 0.8561 - val_acc: 0.6247\n",
            "Epoch 4/5\n",
            "520000/520000 [==============================] - 330s 635us/step - loss: 1.0486 - acc: 0.5366 - val_loss: 0.8490 - val_acc: 0.6335\n",
            "Epoch 5/5\n",
            "520000/520000 [==============================] - 330s 635us/step - loss: 1.0374 - acc: 0.5409 - val_loss: 0.8441 - val_acc: 0.6412\n"
          ],
          "name": "stdout"
        }
      ]
    },
    {
      "cell_type": "code",
      "metadata": {
        "id": "yExxZbE3YxcS",
        "colab_type": "code",
        "colab": {}
      },
      "source": [
        "embedding_layer.trainable = True"
      ],
      "execution_count": 0,
      "outputs": []
    },
    {
      "cell_type": "code",
      "metadata": {
        "id": "ehn3roZNYxcW",
        "colab_type": "code",
        "colab": {}
      },
      "source": [
        "model.compile(loss='categorical_crossentropy', optimizer=adam, metrics=['acc'])"
      ],
      "execution_count": 0,
      "outputs": []
    },
    {
      "cell_type": "code",
      "metadata": {
        "id": "d0KuYxmPYxca",
        "colab_type": "code",
        "colab": {
          "base_uri": "https://localhost:8080/",
          "height": 244
        },
        "outputId": "89a04782-627a-4d61-f08b-bfddbf3b322d"
      },
      "source": [
        "history = model.fit(x_train, y_train, validation_split=0.2, nb_epoch=5, batch_size=64, callbacks=callbacks)"
      ],
      "execution_count": 22,
      "outputs": [
        {
          "output_type": "stream",
          "text": [
            "/usr/local/lib/python3.6/dist-packages/ipykernel_launcher.py:1: UserWarning: The `nb_epoch` argument in `fit` has been renamed `epochs`.\n",
            "  \"\"\"Entry point for launching an IPython kernel.\n"
          ],
          "name": "stderr"
        },
        {
          "output_type": "stream",
          "text": [
            "Train on 520000 samples, validate on 130000 samples\n",
            "Epoch 1/5\n",
            "520000/520000 [==============================] - 879s 2ms/step - loss: 0.9944 - acc: 0.5648 - val_loss: 0.8413 - val_acc: 0.6267\n",
            "Epoch 2/5\n",
            "520000/520000 [==============================] - 881s 2ms/step - loss: 0.9431 - acc: 0.5903 - val_loss: 0.7949 - val_acc: 0.6578\n",
            "Epoch 3/5\n",
            "520000/520000 [==============================] - 880s 2ms/step - loss: 0.9209 - acc: 0.6019 - val_loss: 0.7923 - val_acc: 0.6610\n",
            "Epoch 4/5\n",
            "520000/520000 [==============================] - 884s 2ms/step - loss: 0.9014 - acc: 0.6103 - val_loss: 0.8079 - val_acc: 0.6484\n",
            "Epoch 5/5\n",
            "520000/520000 [==============================] - 881s 2ms/step - loss: 0.8825 - acc: 0.6204 - val_loss: 0.7822 - val_acc: 0.6662\n"
          ],
          "name": "stdout"
        }
      ]
    },
    {
      "cell_type": "code",
      "metadata": {
        "colab_type": "code",
        "id": "VoH-bwtAhoy2",
        "colab": {
          "base_uri": "https://localhost:8080/",
          "height": 121
        },
        "outputId": "16f6e31c-2a0b-4869-f44b-8a65831f1973"
      },
      "source": [
        "%%time\n",
        "score = model.evaluate(x_test, y_test, batch_size=100)\n",
        "print()\n",
        "print(\"ACCURACY:\",score[1])\n",
        "print(\"LOSS:\",score[0])"
      ],
      "execution_count": 23,
      "outputs": [
        {
          "output_type": "stream",
          "text": [
            "50000/50000 [==============================] - 10s 202us/step\n",
            "\n",
            "ACCURACY: 0.6407999992370605\n",
            "LOSS: 0.835525700211525\n",
            "CPU times: user 1.97 s, sys: 611 ms, total: 2.58 s\n",
            "Wall time: 10.1 s\n"
          ],
          "name": "stdout"
        }
      ]
    },
    {
      "cell_type": "code",
      "metadata": {
        "colab_type": "code",
        "id": "x9poJkLZhpo0",
        "colab": {
          "base_uri": "https://localhost:8080/",
          "height": 545
        },
        "outputId": "fe152610-7ea3-4ed8-efac-64b779c01f8d"
      },
      "source": [
        "acc = history.history['acc']\n",
        "val_acc = history.history['val_acc']\n",
        "loss = history.history['loss']\n",
        "val_loss = history.history['val_loss']\n",
        " \n",
        "epochs = range(len(acc))\n",
        " \n",
        "plt.plot(epochs, acc, 'b', label='Training acc')\n",
        "plt.plot(epochs, val_acc, 'r', label='Validation acc')\n",
        "plt.title('Training and validation accuracy')\n",
        "plt.legend()\n",
        " \n",
        "plt.figure()\n",
        " \n",
        "plt.plot(epochs, loss, 'b', label='Training loss')\n",
        "plt.plot(epochs, val_loss, 'r', label='Validation loss')\n",
        "plt.title('Training and validation loss')\n",
        "plt.legend()\n",
        " \n",
        "plt.show()"
      ],
      "execution_count": 24,
      "outputs": [
        {
          "output_type": "display_data",
          "data": {
            "image/png": "[encoded data removed]",
            "text/plain": [
              "<Figure size 432x288 with 1 Axes>"
            ]
          },
          "metadata": {
            "tags": [],
            "needs_background": "light"
          }
        },
        {
          "output_type": "display_data",
          "data": {
            "image/png": "[encoded data removed]",
            "text/plain": [
              "<Figure size 432x288 with 1 Axes>"
            ]
          },
          "metadata": {
            "tags": [],
            "needs_background": "light"
          }
        }
      ]
    },
    {
      "cell_type": "code",
      "metadata": {
        "id": "JTozePokYxck",
        "colab_type": "code",
        "colab": {}
      },
      "source": [
        "model.save(\"cnn30_yelp_word2vec.h5\")\n",
        "pickle.dump(tokenizer, open(\"tokenizer_cnn30_yelp_word2vec.pkl\", \"wb\"), protocol=0)"
      ],
      "execution_count": 0,
      "outputs": []
    },
    {
      "cell_type": "code",
      "metadata": {
        "id": "szdQkDlSYxco",
        "colab_type": "code",
        "colab": {}
      },
      "source": [
        "tokenizer = None\n",
        "with open('tokenizer_cnn30_yelp_word2vec.pkl', 'rb') as handle:\n",
        "    tokenizer = pickle.load(handle)"
      ],
      "execution_count": 0,
      "outputs": []
    },
    {
      "cell_type": "code",
      "metadata": {
        "id": "BMIytNtaYxct",
        "colab_type": "code",
        "colab": {
          "base_uri": "https://localhost:8080/",
          "height": 34
        },
        "outputId": "c79701ce-e0f1-4d08-d9ca-e74ad6b702ea"
      },
      "source": [
        "text = [\"the restaurant we went yesterday was awful.\\nThe food was bad, the service was bad.\"]\n",
        "tokenizer.texts_to_sequences(text)"
      ],
      "execution_count": 27,
      "outputs": [
        {
          "output_type": "execute_result",
          "data": {
            "text/plain": [
              "[[1, 103, 16, 101, 1550, 6, 765, 1, 29, 6, 136, 1, 53, 6, 136]]"
            ]
          },
          "metadata": {
            "tags": []
          },
          "execution_count": 27
        }
      ]
    },
    {
      "cell_type": "code",
      "metadata": {
        "id": "t_wRb5eaYxcz",
        "colab_type": "code",
        "colab": {}
      },
      "source": [
        "def predict_new_text(text, model, tokenizer):\n",
        "    text = preprocess(text)\n",
        "    \n",
        "    data = pad_sequences(tokenizer.texts_to_sequences([text]), maxlen=MAX_SENT_LENGTH)\n",
        "    \n",
        "    ynew = model.predict(data)\n",
        "    return ynew"
      ],
      "execution_count": 0,
      "outputs": []
    },
    {
      "cell_type": "code",
      "metadata": {
        "id": "5asW_2_BYxc3",
        "colab_type": "code",
        "colab": {
          "base_uri": "https://localhost:8080/",
          "height": 34
        },
        "outputId": "f7f7c02e-79ac-4705-c8cd-acaacf52badf"
      },
      "source": [
        "text = \"the restaurant we went yesterday was wonderful.\"\n",
        "print(predict_new_text(text, model, tokenizer))"
      ],
      "execution_count": 29,
      "outputs": [
        {
          "output_type": "stream",
          "text": [
            "[[0.07300357 0.11752121 0.2259614  0.32439968 0.25911415]]\n"
          ],
          "name": "stdout"
        }
      ]
    },
    {
      "cell_type": "code",
      "metadata": {
        "id": "dazBJNKUYxc6",
        "colab_type": "code",
        "colab": {
          "base_uri": "https://localhost:8080/",
          "height": 52
        },
        "outputId": "44f00e5a-f38b-460f-ea2e-012195f5ce3f"
      },
      "source": [
        "text = \"the restaurant we went yesterday was awful.\\nThe food was bad, the service was bad.\"\n",
        "print(predict_new_text(text, model, tokenizer))\n",
        "labels = [1, 2, 3, 4, 5]\n",
        "print(labels[np.argmax(predict_new_text(text,model, tokenizer))])"
      ],
      "execution_count": 30,
      "outputs": [
        {
          "output_type": "stream",
          "text": [
            "[[0.7077747  0.25173345 0.03458069 0.00340168 0.00250948]]\n",
            "1\n"
          ],
          "name": "stdout"
        }
      ]
    },
    {
      "cell_type": "code",
      "metadata": {
        "id": "hqXprB62Yxc-",
        "colab_type": "code",
        "colab": {
          "base_uri": "https://localhost:8080/",
          "height": 52
        },
        "outputId": "794ce0b9-4983-4590-bdf0-e59d252a87f8"
      },
      "source": [
        "text = \"The characters in this novel were great. I immediately started rooting for them to succeed. With a shorter Nov the development of the characters were good. It would have been nice to get more background on them but again, short novel means minimal background.\"\n",
        "print(predict_new_text(text, model, tokenizer))\n",
        "labels = [1, 2, 3, 4, 5]\n",
        "print(labels[np.argmax(predict_new_text(text,model, tokenizer))])"
      ],
      "execution_count": 31,
      "outputs": [
        {
          "output_type": "stream",
          "text": [
            "[[0.03001867 0.10263883 0.32353726 0.3533008  0.19050442]]\n",
            "4\n"
          ],
          "name": "stdout"
        }
      ]
    },
    {
      "cell_type": "code",
      "metadata": {
        "id": "Nw7OdkYTYxdD",
        "colab_type": "code",
        "colab": {
          "base_uri": "https://localhost:8080/",
          "height": 52
        },
        "outputId": "7bc56daa-e0b5-4dd3-cc6f-af02f59862e3"
      },
      "source": [
        "text = \"Good concept but I couldn't get swept away in the story. I didn't care for the characters. Events felt disjointed. I'm not sure if it was the story or the writing style, this one just wasn't for me.\"\n",
        "print(predict_new_text(text, model, tokenizer))\n",
        "labels = [1, 2, 3, 4, 5]\n",
        "print(labels[np.argmax(predict_new_text(text,model, tokenizer))])"
      ],
      "execution_count": 32,
      "outputs": [
        {
          "output_type": "stream",
          "text": [
            "[[0.00682528 0.25485566 0.69813526 0.03895595 0.00122789]]\n",
            "3\n"
          ],
          "name": "stdout"
        }
      ]
    },
    {
      "cell_type": "code",
      "metadata": {
        "id": "qbWk1uzZYxdH",
        "colab_type": "code",
        "colab": {
          "base_uri": "https://localhost:8080/",
          "height": 52
        },
        "outputId": "4041930b-85c5-44dc-e985-f271d9100548"
      },
      "source": [
        "text = \"So far... the worst book I ever read. Started out alright, but everything went downhill the moment the MC discovered his 'superpowers' and became perhaps the biggest Gary Sue (Male counterpart to the Mary Sue) in all of published fiction.\"\n",
        "print(predict_new_text(text, model, tokenizer))\n",
        "labels = [1, 2, 3, 4, 5]\n",
        "print(labels[np.argmax(predict_new_text(text,model, tokenizer))])"
      ],
      "execution_count": 33,
      "outputs": [
        {
          "output_type": "stream",
          "text": [
            "[[0.59655726 0.31831178 0.05505215 0.01532704 0.01475174]]\n",
            "1\n"
          ],
          "name": "stdout"
        }
      ]
    },
    {
      "cell_type": "code",
      "metadata": {
        "id": "3qrCzqCiYxdK",
        "colab_type": "code",
        "colab": {
          "base_uri": "https://localhost:8080/",
          "height": 52
        },
        "outputId": "254fd497-abc4-4487-fbe3-28b457f5972d"
      },
      "source": [
        "text = \"The book is straight up awful and you can't change mind\"\n",
        "print(predict_new_text(text, model, tokenizer))\n",
        "labels = [1, 2, 3, 4, 5]\n",
        "print(labels[np.argmax(predict_new_text(text,model, tokenizer))])"
      ],
      "execution_count": 34,
      "outputs": [
        {
          "output_type": "stream",
          "text": [
            "[[0.36395603 0.3206066  0.16833234 0.08545481 0.06165023]]\n",
            "1\n"
          ],
          "name": "stdout"
        }
      ]
    },
    {
      "cell_type": "code",
      "metadata": {
        "id": "eWBDwbEIYxdQ",
        "colab_type": "code",
        "colab": {
          "base_uri": "https://localhost:8080/",
          "height": 516
        },
        "outputId": "d59427cf-940b-40de-a1b2-4c10880cda59"
      },
      "source": [
        "target_cnt = Counter(df_train.target)\n",
        "\n",
        "plt.figure(figsize=(16,8))\n",
        "plt.bar(target_cnt.keys(), target_cnt.values())\n",
        "plt.title(\"Dataset labels distribuition\")"
      ],
      "execution_count": 35,
      "outputs": [
        {
          "output_type": "execute_result",
          "data": {
            "text/plain": [
              "Text(0.5, 1.0, 'Dataset labels distribuition')"
            ]
          },
          "metadata": {
            "tags": []
          },
          "execution_count": 35
        },
        {
          "output_type": "display_data",
          "data": {
            "image/png": "[encoded data removed]",
            "text/plain": [
              "<Figure size 1152x576 with 1 Axes>"
            ]
          },
          "metadata": {
            "tags": [],
            "needs_background": "light"
          }
        }
      ]
    },
    {
      "cell_type": "code",
      "metadata": {
        "id": "dClS5GwfYxdT",
        "colab_type": "code",
        "colab": {}
      },
      "source": [
        "from sklearn.metrics import confusion_matrix\n",
        "\n",
        "y_pred = model.predict(x_test)"
      ],
      "execution_count": 0,
      "outputs": []
    },
    {
      "cell_type": "code",
      "metadata": {
        "id": "4ET1hwOWYxdX",
        "colab_type": "code",
        "colab": {}
      },
      "source": [
        "def plot_confusion_matrix(cm, classes,\n",
        "                          normalize=False,\n",
        "                          title='Confusion matrix',\n",
        "                          cmap=plt.cm.Blues):\n",
        "    \"\"\"\n",
        "    This function prints and plots the confusion matrix.\n",
        "    Normalization can be applied by setting `normalize=True`.\n",
        "    \"\"\"\n",
        "    if normalize:\n",
        "        cm = cm.astype('float') / cm.sum(axis=1)[:, np.newaxis]\n",
        "        print(\"Normalized confusion matrix\")\n",
        "    else:\n",
        "        print('Confusion matrix, without normalization')\n",
        "\n",
        "    # print(cm)\n",
        "\n",
        "    plt.imshow(cm, interpolation='nearest', cmap=cmap)\n",
        "    plt.title(title)\n",
        "    plt.colorbar()\n",
        "    tick_marks = np.arange(len(classes))\n",
        "    plt.xticks(tick_marks, classes, rotation=90)\n",
        "    plt.yticks(tick_marks, classes)\n",
        "\n",
        "    fmt = '.2f' if normalize else 'd'\n",
        "    thresh = cm.max() / 2.\n",
        "    for i, j in itertools.product(range(cm.shape[0]), range(cm.shape[1])):\n",
        "        plt.text(j, i, format(cm[i, j], fmt),\n",
        "                 horizontalalignment=\"center\",\n",
        "                 color=\"white\" if cm[i, j] > thresh else \"black\")\n",
        "\n",
        "    plt.tight_layout()\n",
        "    plt.ylabel('True label')\n",
        "    plt.xlabel('Predicted label')"
      ],
      "execution_count": 0,
      "outputs": []
    },
    {
      "cell_type": "code",
      "metadata": {
        "id": "yeBdMLBkYxda",
        "colab_type": "code",
        "colab": {
          "base_uri": "https://localhost:8080/",
          "height": 34
        },
        "outputId": "1bbf609b-787e-4c88-ab5b-61d03d9dde58"
      },
      "source": [
        "label_names = ['0', '1', '2', '3', '4']\n",
        "np.asarray(label_names)"
      ],
      "execution_count": 38,
      "outputs": [
        {
          "output_type": "execute_result",
          "data": {
            "text/plain": [
              "array(['0', '1', '2', '3', '4'], dtype='<U1')"
            ]
          },
          "metadata": {
            "tags": []
          },
          "execution_count": 38
        }
      ]
    },
    {
      "cell_type": "code",
      "metadata": {
        "id": "7mIYWJMSYxde",
        "colab_type": "code",
        "colab": {
          "base_uri": "https://localhost:8080/",
          "height": 329
        },
        "outputId": "ef8dab5d-5f3c-4dfb-874f-f91db841be9e"
      },
      "source": [
        "conf_matrix = confusion_matrix(y_test.argmax(axis=1), y_pred.argmax(axis=1))\n",
        "label_names = ['0', '1', '2', '3', '4']\n",
        "plot_confusion_matrix(conf_matrix, classes=np.asarray(label_names), normalize=True,\n",
        "                      title='Normalized confusion matrix')"
      ],
      "execution_count": 39,
      "outputs": [
        {
          "output_type": "stream",
          "text": [
            "Normalized confusion matrix\n"
          ],
          "name": "stdout"
        },
        {
          "output_type": "display_data",
          "data": {
            "image/png": "[encoded data removed]",
            "text/plain": [
              "<Figure size 432x288 with 2 Axes>"
            ]
          },
          "metadata": {
            "tags": [],
            "needs_background": "light"
          }
        }
      ]
    },
    {
      "cell_type": "code",
      "metadata": {
        "id": "mC17G2SsYxdh",
        "colab_type": "code",
        "colab": {
          "base_uri": "https://localhost:8080/",
          "height": 226
        },
        "outputId": "9fc19c74-170e-43b6-b286-9f71ea7b716e"
      },
      "source": [
        "from sklearn.metrics import classification_report\n",
        "label_names = ['0', '1', '2', '3', '4']\n",
        "print(classification_report(y_test.argmax(axis=1), y_pred.argmax(axis=1), target_names=label_names))"
      ],
      "execution_count": 40,
      "outputs": [
        {
          "output_type": "stream",
          "text": [
            "              precision    recall  f1-score   support\n",
            "\n",
            "           0       0.75      0.78      0.76     10000\n",
            "           1       0.60      0.54      0.57     10000\n",
            "           2       0.57      0.63      0.60     10000\n",
            "           3       0.57      0.54      0.55     10000\n",
            "           4       0.72      0.72      0.72     10000\n",
            "\n",
            "    accuracy                           0.64     50000\n",
            "   macro avg       0.64      0.64      0.64     50000\n",
            "weighted avg       0.64      0.64      0.64     50000\n",
            "\n"
          ],
          "name": "stdout"
        }
      ]
    },
    {
      "cell_type": "code",
      "metadata": {
        "id": "6bmbtkT1ykR-",
        "colab_type": "code",
        "colab": {}
      },
      "source": [
        ""
      ],
      "execution_count": 0,
      "outputs": []
    }
  ]
}